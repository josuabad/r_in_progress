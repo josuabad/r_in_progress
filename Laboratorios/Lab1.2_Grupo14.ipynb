{
 "cells": [
  {
   "attachments": {
    "image-2.png": {
     "image/png": "[encoded data removed]"
    }
   },
   "cell_type": "markdown",
   "id": "f3823052",
   "metadata": {
    "nbpresent": {
     "id": "b8300535-6e4c-460b-b499-7db5c12d363e"
    },
    "slideshow": {
     "slide_type": "subslide"
    }
   },
   "source": [
    "<a name = \"inicio\"></a>\n",
    "\n",
    "***\n",
    "\n",
    "<div style=\"font-size: 30px;text-align: center;height:60px;padding:10px;margin:10px 0 0 0;\">Laboratorio 1.2 Objetos y tipos de estructuras de datos en R </div>\n",
    "\n",
    "<table>\n",
    "  <tr>\n",
    "    <td>\n",
    "<div>\n",
    "<img src=\"attachment:image-2.png\" width=\"135\"/>\n",
    "<td>&nbsp;</td><td>&nbsp;</td>\n",
    "</div>\n",
    "    </td>\n",
    "    <td>\n",
    "<div>\n",
    "<img src=\"attachment:image-3.png\" width=\"350\"/>\n",
    "</div>       \n",
    "</td>\n",
    "  </tr>\n",
    "<table>\n",
    "    \n",
    "**Grupo 14**:\n",
    "\n",
    "* *Josu Abad Otaño*\n",
    "* *Mateo Matínez Abel*\n",
    "\n",
    "***"
   ]
  },
  {
   "cell_type": "markdown",
   "id": "b8792bfa",
   "metadata": {},
   "source": [
    "### Ejercicio 1 \n",
    "\n",
    "Calcular los siguientes sumandos con las operaciones y funciones escritas exactamente en el orden dado y sin paréntesis innecesarios.\n",
    "\n",
    "1. $(3+10)*9+51−33+7!$\n",
    "2. $19-1+4*4+√151$\n",
    "3. $|sin(√2)−e^{5√2}|$\n",
    "4. $9e−π$"
   ]
  },
  {
   "cell_type": "markdown",
   "id": "c0155f67",
   "metadata": {},
   "source": [
    "<div style=\"background-color:#F7DC6F\"><b>Resolución Ejercicio 01</b></div>"
   ]
  },
  {
   "cell_type": "markdown",
   "id": "353b6317",
   "metadata": {},
   "source": [
    "<div style=\"background-color:#5DADE2\"><b>Apartado 1</b></div>"
   ]
  },
  {
   "cell_type": "code",
   "execution_count": 1,
   "id": "d2a8db9f",
   "metadata": {
    "vscode": {
     "languageId": "r"
    }
   },
   "outputs": [
    {
     "data": {
      "text/html": [
       "5175"
      ],
      "text/latex": [
       "5175"
      ],
      "text/markdown": [
       "5175"
      ],
      "text/plain": [
       "[1] 5175"
      ]
     },
     "metadata": {},
     "output_type": "display_data"
    }
   ],
   "source": [
    "(3 + 10) * 9 + 51 - 33 + factorial(7)\n",
    "sqrt"
   ]
  },
  {
   "cell_type": "markdown",
   "id": "3cc82957",
   "metadata": {},
   "source": [
    "<div style=\"background-color:#5DADE2\"><b>Apartado 2</b></div>"
   ]
  },
  {
   "cell_type": "code",
   "execution_count": null,
   "id": "9ef01e00",
   "metadata": {
    "vscode": {
     "languageId": "r"
    }
   },
   "outputs": [],
   "source": [
    "19 - 1 + 4 * 4 + sqrt(151)"
   ]
  },
  {
   "cell_type": "markdown",
   "id": "d9dbb419",
   "metadata": {},
   "source": [
    "<div style=\"background-color:#5DADE2\"><b>Apartado 3</b></div>"
   ]
  },
  {
   "cell_type": "code",
   "execution_count": null,
   "id": "dc2b3b38",
   "metadata": {
    "vscode": {
     "languageId": "r"
    }
   },
   "outputs": [],
   "source": [
    "abs(sin(sqrt(2)) - exp(5 * sqrt(2)))"
   ]
  },
  {
   "cell_type": "markdown",
   "id": "87207429",
   "metadata": {},
   "source": [
    "<div style=\"background-color:#5DADE2\"><b>Apartado 4</b></div>"
   ]
  },
  {
   "cell_type": "code",
   "execution_count": null,
   "id": "075056e5",
   "metadata": {
    "vscode": {
     "languageId": "r"
    }
   },
   "outputs": [],
   "source": [
    "9 * exp(1) - pi"
   ]
  },
  {
   "cell_type": "markdown",
   "id": "2bd051ee",
   "metadata": {},
   "source": [
    "### Ejercicio 2 \n",
    "\n",
    "Contestar a las siguientes cuestiones utilizando para ello las funciones necesarias.\n",
    "\n",
    "1. Guardar el valor de dos variables `a` y `b`, la primera con valor igual a 3 y la segunda con valor igual a 7. Tras asignarles valor, multiplicar los números.\n",
    "2. Repetir el ejercicio anterior pero ahora guarda el resultado en una variable `c`.\n",
    "3. Calcular la suma de 8 más 4, y todo ello multiplicado por 19, y asígnalo a una variable `x`.\n",
    "4. Asignar un valor positivo a `x` y calcula  su raíz cuadrada; asignar otro negativo y calcular su valor absoluto.\n",
    "5. Usando la variable `x` ya definida, calcular `x - 5` y guárdalo en una nueva variable `z`.\n",
    "6. Usando las variables `x` y `z` ya definidas, calcular la raíz cuadrada del máximo entre ambas, y guárdalo en una nueva variable `t`."
   ]
  },
  {
   "cell_type": "markdown",
   "id": "b0d4b224",
   "metadata": {},
   "source": [
    "<div style=\"background-color:#F7DC6F\"><b>Resolución Ejercicio 02</b></div>"
   ]
  },
  {
   "cell_type": "markdown",
   "id": "f911d2d5",
   "metadata": {},
   "source": [
    "<div style=\"background-color:#5DADE2\"><b>Apartado 1</b></div>"
   ]
  },
  {
   "cell_type": "code",
   "execution_count": null,
   "id": "d3a47509",
   "metadata": {
    "vscode": {
     "languageId": "r"
    }
   },
   "outputs": [],
   "source": [
    "a <- 3\n",
    "b <- 7"
   ]
  },
  {
   "cell_type": "code",
   "execution_count": null,
   "id": "bb308749",
   "metadata": {
    "vscode": {
     "languageId": "r"
    }
   },
   "outputs": [],
   "source": [
    "a * b"
   ]
  },
  {
   "cell_type": "markdown",
   "id": "90205b6f",
   "metadata": {},
   "source": [
    "<div style=\"background-color:#5DADE2\"><b>Apartado 2</b></div>"
   ]
  },
  {
   "cell_type": "code",
   "execution_count": null,
   "id": "31c52ac6",
   "metadata": {
    "vscode": {
     "languageId": "r"
    }
   },
   "outputs": [],
   "source": [
    "c <- a * b\n",
    "c"
   ]
  },
  {
   "cell_type": "markdown",
   "id": "83e7ad7f",
   "metadata": {},
   "source": [
    "<div style=\"background-color:#5DADE2\"><b>Apartado 3</b></div>"
   ]
  },
  {
   "cell_type": "code",
   "execution_count": null,
   "id": "ca122ca5",
   "metadata": {
    "vscode": {
     "languageId": "r"
    }
   },
   "outputs": [],
   "source": [
    "x <- (8 + 4) * 19\n",
    "x"
   ]
  },
  {
   "cell_type": "markdown",
   "id": "2577774a",
   "metadata": {},
   "source": [
    "<div style=\"background-color:#5DADE2\"><b>Apartado 4</b></div>"
   ]
  },
  {
   "cell_type": "code",
   "execution_count": null,
   "id": "74901833",
   "metadata": {
    "vscode": {
     "languageId": "r"
    }
   },
   "outputs": [],
   "source": [
    "x <- 9\n",
    "sqrt(x)\n",
    "y <- -25\n",
    "abs(y)"
   ]
  },
  {
   "cell_type": "markdown",
   "id": "b2b5a36c",
   "metadata": {},
   "source": [
    "<div style=\"background-color:#5DADE2\"><b>Apartado 5</b></div>"
   ]
  },
  {
   "cell_type": "code",
   "execution_count": null,
   "id": "200de36e",
   "metadata": {
    "vscode": {
     "languageId": "r"
    }
   },
   "outputs": [],
   "source": [
    "z <- x - 5\n",
    "z # 9 - 5 = 4"
   ]
  },
  {
   "cell_type": "markdown",
   "id": "ed3037b9",
   "metadata": {},
   "source": [
    "<div style=\"background-color:#5DADE2\"><b>Apartado 6</b></div>"
   ]
  },
  {
   "cell_type": "code",
   "execution_count": null,
   "id": "1cdaa083",
   "metadata": {
    "vscode": {
     "languageId": "r"
    }
   },
   "outputs": [],
   "source": [
    "t <- sqrt(max(x, z))\n",
    "t"
   ]
  },
  {
   "cell_type": "markdown",
   "id": "eeca6d52",
   "metadata": {},
   "source": [
    "### Ejercicio 3 \n",
    "\n",
    "Contestar a las siguientes cuestiones utilizando para ello las funciones necesarias.\n",
    "\n",
    "1. Dar el valor del elemento decimoquinto de la sucesión de números consecutivos entre $-19$ y $50$.\n",
    "2. Dar la instrucción que crea, usando la función `c`, un vector llamado Ciudades formado por los nombres Madrid, Barcelona, Valencia, Sevilla.\n",
    "3. Tomar la progresión de números consecutivos que va de -7 a 20, cambiar el décimo elemento empezando por el final por un 30 y calcular la media.\n",
    "4. Dar la instrucción que crea, usando la función rep, un vector llamado As formado por 70 copias de la letra Q.\n",
    "5. Dar una instrucción que cambie los nombres de los niveles de un factor llamado H de 4 niveles a A, B, N y S (en este orden).\n",
    "6. Dar una instrucción que defina un factor llamado F a partir del vector (0, 1, 0, 0, 1, 0), asignando al 0 y al 1 los niveles No y Si, respectivamente."
   ]
  },
  {
   "cell_type": "markdown",
   "id": "22a45303",
   "metadata": {},
   "source": [
    "<div style=\"background-color:#F7DC6F\"><b>Resolución Ejercicio 03</b></div>"
   ]
  },
  {
   "cell_type": "markdown",
   "id": "4aaf18b2",
   "metadata": {},
   "source": [
    "<div style=\"background-color:#5DADE2\"><b>Apartado 1</b></div>"
   ]
  },
  {
   "cell_type": "code",
   "execution_count": null,
   "id": "5c0116b0",
   "metadata": {
    "vscode": {
     "languageId": "r"
    }
   },
   "outputs": [],
   "source": [
    "numerosConsecutivos1 <- seq(from = -19, to = 50, by = 1)\n",
    "numerosConsecutivos1"
   ]
  },
  {
   "cell_type": "code",
   "execution_count": null,
   "id": "875acaa0",
   "metadata": {
    "vscode": {
     "languageId": "r"
    }
   },
   "outputs": [],
   "source": [
    "numerosConsecutivos1[15]"
   ]
  },
  {
   "cell_type": "markdown",
   "id": "6c77eab5",
   "metadata": {},
   "source": [
    "<div style=\"background-color:#5DADE2\"><b>Apartado 2</b></div>"
   ]
  },
  {
   "cell_type": "code",
   "execution_count": null,
   "id": "ccc1e9c4",
   "metadata": {
    "vscode": {
     "languageId": "r"
    }
   },
   "outputs": [],
   "source": [
    "Ciudades <- c(\"Madrid\", \"Barcelona\", \"Valencia\", \"Sevilla\")\n",
    "Ciudades"
   ]
  },
  {
   "cell_type": "markdown",
   "id": "7e3d90fa",
   "metadata": {},
   "source": [
    "<div style=\"background-color:#5DADE2\"><b>Apartado 3</b></div>"
   ]
  },
  {
   "cell_type": "code",
   "execution_count": null,
   "id": "2e280f6a",
   "metadata": {
    "vscode": {
     "languageId": "r"
    }
   },
   "outputs": [],
   "source": [
    "numerosConsecutivos2 <- seq(from = -7, to = 20, by = 1)\n",
    "numerosConsecutivos2"
   ]
  },
  {
   "cell_type": "code",
   "execution_count": null,
   "id": "df067eea",
   "metadata": {
    "vscode": {
     "languageId": "r"
    }
   },
   "outputs": [],
   "source": [
    "# Desde la longitud de toda la cadena, desechar los 9 últimos para obtener la décima posición\n",
    "numerosConsecutivos2[length(numerosConsecutivos2) - 9] <- 30"
   ]
  },
  {
   "cell_type": "code",
   "execution_count": null,
   "id": "2b91cbd6",
   "metadata": {
    "vscode": {
     "languageId": "r"
    }
   },
   "outputs": [],
   "source": [
    "mean(numerosConsecutivos2)"
   ]
  },
  {
   "cell_type": "markdown",
   "id": "51b1b1f7",
   "metadata": {},
   "source": [
    "<div style=\"background-color:#5DADE2\"><b>Apartado 4</b></div>"
   ]
  },
  {
   "cell_type": "code",
   "execution_count": null,
   "id": "c739653e",
   "metadata": {
    "vscode": {
     "languageId": "r"
    }
   },
   "outputs": [],
   "source": [
    "As = rep(\"Q\", 70)\n",
    "As"
   ]
  },
  {
   "cell_type": "markdown",
   "id": "23195035",
   "metadata": {},
   "source": [
    "<div style=\"background-color:#5DADE2\"><b>Apartado 5</b></div>"
   ]
  },
  {
   "cell_type": "code",
   "execution_count": null,
   "id": "30a00374",
   "metadata": {
    "vscode": {
     "languageId": "r"
    }
   },
   "outputs": [],
   "source": [
    "H = factor(c(1:4), labels = c(\"A\", \"B\", \"N\", \"S\"))\n",
    "H"
   ]
  },
  {
   "cell_type": "markdown",
   "id": "dbafa50b",
   "metadata": {},
   "source": [
    "<div style=\"background-color:#5DADE2\"><b>Apartado 6</b></div>"
   ]
  },
  {
   "cell_type": "code",
   "execution_count": null,
   "id": "0d6330c5",
   "metadata": {
    "vscode": {
     "languageId": "r"
    }
   },
   "outputs": [],
   "source": [
    "F = factor(c(0, 1, 0, 0, 1, 0), labels = c(\"No\", \"Si\"))\n",
    "F"
   ]
  },
  {
   "cell_type": "markdown",
   "id": "af4184a7",
   "metadata": {},
   "source": [
    "### Ejercicio 4 \n",
    "\n",
    "Contestar a las siguientes cuestiones utilizando para ello las funciones necesarias. \n",
    "\n",
    "1. Definir una matriz `x` de ceros de 4 filas y 4 columnas. Tras ello sumar un 1 a cada número de la matriz y dividir el resultado entre 4. Tras definir la matriz `x` calcular su transpuesta y obtener las dimensiones de la matriz traspuesta.\n",
    "\n",
    "2. Calcular la suma y resta de cada fila de la matriz `matrix(1:16, nrow = 4)` usando la función $\\tt apply$.\n",
    "\n",
    "3. Con la matriz `matrix(1:16, nrow = 4)` anterior, calcular la media de todos los elementos, la media de cada fila y la media de cada columna.\n",
    "\n",
    "4. Con la matriz `matrix(1:16, nrow = 4)` anterior, calcular su traspuesta, adjunta, el determinante y obtener la inversa de dicha matriz paso a paso. Explicarlo.\n",
    "\n",
    "5. Comprobar que habéis realizado correctamente los cálculos obteniendo la inversa directamente a través de la función oportuna. ¿Existe alguna otra forma de comprobar si hemos realizado bien la inversa de una matriz? "
   ]
  },
  {
   "cell_type": "markdown",
   "id": "f8b83169",
   "metadata": {},
   "source": [
    "<div style=\"background-color:#F7DC6F\"><b>Resolución Ejercicio 04</b></div>"
   ]
  },
  {
   "cell_type": "markdown",
   "id": "459f4b6a",
   "metadata": {},
   "source": [
    "<div style=\"background-color:#5DADE2\"><b>Apartado 1</b></div>"
   ]
  },
  {
   "cell_type": "code",
   "execution_count": null,
   "id": "e86152c4",
   "metadata": {
    "vscode": {
     "languageId": "r"
    }
   },
   "outputs": [],
   "source": [
    "x <- matrix(0, nrow = 4, ncol = 4)\n",
    "x"
   ]
  },
  {
   "cell_type": "code",
   "execution_count": null,
   "id": "714d70ac",
   "metadata": {
    "vscode": {
     "languageId": "r"
    }
   },
   "outputs": [],
   "source": [
    "x <- x + 1\n",
    "x"
   ]
  },
  {
   "cell_type": "code",
   "execution_count": null,
   "id": "00487b5c",
   "metadata": {
    "vscode": {
     "languageId": "r"
    }
   },
   "outputs": [],
   "source": [
    "x <- x / 4\n",
    "x"
   ]
  },
  {
   "cell_type": "code",
   "execution_count": null,
   "id": "6a33c331",
   "metadata": {
    "vscode": {
     "languageId": "r"
    }
   },
   "outputs": [],
   "source": [
    "traspuesta <- t(x)\n",
    "traspuesta"
   ]
  },
  {
   "cell_type": "code",
   "execution_count": null,
   "id": "f39305e7",
   "metadata": {
    "vscode": {
     "languageId": "r"
    }
   },
   "outputs": [],
   "source": [
    "dimensionTranspuesta <- dim(traspuesta)\n",
    "dimensionTranspuesta == 4"
   ]
  },
  {
   "cell_type": "markdown",
   "id": "014023fe",
   "metadata": {},
   "source": [
    "<div style=\"background-color:#5DADE2\"><b>Apartado 2</b></div>"
   ]
  },
  {
   "cell_type": "code",
   "execution_count": null,
   "id": "9a6b3800",
   "metadata": {
    "vscode": {
     "languageId": "r"
    }
   },
   "outputs": [],
   "source": [
    "m <- matrix(1:16, nrow = 4)\n",
    "m"
   ]
  },
  {
   "cell_type": "code",
   "execution_count": null,
   "id": "0049db50",
   "metadata": {
    "vscode": {
     "languageId": "r"
    }
   },
   "outputs": [],
   "source": [
    "suma <- apply(X = m, MARGIN = 1, FUN = sum)\n",
    "suma"
   ]
  },
  {
   "cell_type": "code",
   "execution_count": null,
   "id": "7794e436",
   "metadata": {
    "vscode": {
     "languageId": "r"
    }
   },
   "outputs": [],
   "source": [
    "resta <- function(vec){\n",
    "    resul = vec[1]-vec[2]-vec[3]-vec[4] \n",
    "    return(resul)\n",
    "}    #Como sabemos que la fila de la matriz tiene 4 elementos y que la funcion apply le pasa como argumento\n",
    "    # a FUN un vector con la fila entonces simplemente definimos resta como el primer elemento de esa fila menos los\n",
    "    # otros 3"
   ]
  },
  {
   "cell_type": "code",
   "execution_count": null,
   "id": "1efb741d",
   "metadata": {
    "vscode": {
     "languageId": "r"
    }
   },
   "outputs": [],
   "source": [
    "restar <- apply(X = m, MARGIN = 1, FUN = resta)\n",
    "restar"
   ]
  },
  {
   "cell_type": "markdown",
   "id": "083f3111",
   "metadata": {},
   "source": [
    "<div style=\"background-color:#5DADE2\"><b>Apartado 3</b></div>"
   ]
  },
  {
   "cell_type": "code",
   "execution_count": null,
   "id": "c54b628b",
   "metadata": {
    "vscode": {
     "languageId": "r"
    }
   },
   "outputs": [],
   "source": [
    "mean(m)"
   ]
  },
  {
   "cell_type": "code",
   "execution_count": null,
   "id": "0d13b319",
   "metadata": {
    "vscode": {
     "languageId": "r"
    }
   },
   "outputs": [],
   "source": [
    "apply(X = m, MARGIN = 1, FUN = mean)"
   ]
  },
  {
   "cell_type": "code",
   "execution_count": null,
   "id": "99529c99",
   "metadata": {
    "vscode": {
     "languageId": "r"
    }
   },
   "outputs": [],
   "source": [
    "apply(X = m, MARGIN = 2, FUN = mean)"
   ]
  },
  {
   "cell_type": "markdown",
   "id": "36728eea",
   "metadata": {},
   "source": [
    "<div style=\"background-color:#5DADE2\"><b>Apartado 4</b></div>"
   ]
  },
  {
   "cell_type": "code",
   "execution_count": null,
   "id": "3cd52302",
   "metadata": {
    "vscode": {
     "languageId": "r"
    }
   },
   "outputs": [],
   "source": [
    "install.packages(\"RConics\")"
   ]
  },
  {
   "cell_type": "code",
   "execution_count": null,
   "id": "7885395e",
   "metadata": {
    "vscode": {
     "languageId": "r"
    }
   },
   "outputs": [],
   "source": [
    "t(matriz)\n",
    "library(RConics)\n",
    "adjoint(matriz)\n",
    "det(matriz)\n",
    "#La inversa de la matriz no se puede calcular ya que en la formula de la inversa se divide por el determinante\n",
    "# que en este caso es 0 por lo que daria NaN"
   ]
  },
  {
   "cell_type": "markdown",
   "id": "7f4dc6e3",
   "metadata": {},
   "source": [
    "### Ejercicio 5 \n",
    "\n",
    "Contestar a las siguientes cuestiones utilizando para ello las funciones necesarias. Utilizar la librería `dplyr` en los casos que se requiera.\n",
    "\n",
    "1. Considerar el data.frame `iris` (al que podéis acceder desde la librería `{datasets}`), y obtener el nombre de las variables.\n",
    "2. Considerar el data.frame `iris`, seleccionar aquellas filas cuya variable `Petal.Width` sea distinta de 0.2.\n",
    "3. Considerar el data.frame `iris`, quedaros solo con las variables `Sepal.Length`, `Sepal.Width` y `Species`.\n",
    "4. Considerar el data.frame `iris`, seleccionar a la vez aquellas filas cuya variable `Petal.Width` sea distinta de 0.2, y quedaros solo con las variables `Sepal.Length`, `Sepal.Width` y `Species`.\n",
    "5. Calcular el número de filas borradas del ejercicio anterior. Tras hacer todo ello, traducir al castellano el nombre de las columnas del `data.frame` filtrado y modificar los nombres de dichas variables.\n",
    "6. Seleccionar las variables que contienen las medidas del pétalo, seleccionar los lirios para los que la longitud del pétalo es mayor que 3 mm y ordenarlos de mayor a menor longitud del pétalo.\n",
    "7. Crear una variable con el nombre de forma que corresponda al cociente entre la anchura y la longitud del pétalo."
   ]
  },
  {
   "cell_type": "markdown",
   "id": "4c4d9ef2",
   "metadata": {},
   "source": [
    "<div style=\"background-color:#F7DC6F\"><b>Resolución Ejercicio 05</b></div>"
   ]
  },
  {
   "cell_type": "markdown",
   "id": "816bde18",
   "metadata": {},
   "source": [
    "<div style=\"background-color:#5DADE2\"><b>Apartado 1</b></div>"
   ]
  },
  {
   "cell_type": "code",
   "execution_count": null,
   "id": "66bc7ea1",
   "metadata": {
    "vscode": {
     "languageId": "r"
    }
   },
   "outputs": [],
   "source": [
    "# Primero se carga el dataframe\n",
    "data(iris)"
   ]
  },
  {
   "cell_type": "code",
   "execution_count": null,
   "id": "e5fcd0d6",
   "metadata": {
    "vscode": {
     "languageId": "r"
    }
   },
   "outputs": [],
   "source": [
    "# Obtenemos el nombre de las variables\n",
    "names(iris)"
   ]
  },
  {
   "cell_type": "markdown",
   "id": "9ad9927a",
   "metadata": {},
   "source": [
    "<div style=\"background-color:#5DADE2\"><b>Apartado 2</b></div>"
   ]
  },
  {
   "cell_type": "code",
   "execution_count": null,
   "id": "8ccd867f",
   "metadata": {
    "vscode": {
     "languageId": "r"
    }
   },
   "outputs": [],
   "source": [
    "iris[iris$Petal.Width != 0.2, ]"
   ]
  },
  {
   "cell_type": "markdown",
   "id": "0d97fc6e",
   "metadata": {},
   "source": [
    "<div style=\"background-color:#5DADE2\"><b>Apartado 3</b></div>"
   ]
  },
  {
   "cell_type": "code",
   "execution_count": null,
   "id": "fb80e31e",
   "metadata": {
    "vscode": {
     "languageId": "r"
    }
   },
   "outputs": [],
   "source": [
    "# Vamos a seleccionar todas las filas de las columnas necesarias para crear un nuevo data frame\n",
    "iris[, c(\"Sepal.Length\", \"Sepal.Width\", \"Species\")]"
   ]
  },
  {
   "cell_type": "markdown",
   "id": "c49839ce",
   "metadata": {},
   "source": [
    "<div style=\"background-color:#5DADE2\"><b>Apartado 4</b></div>"
   ]
  },
  {
   "cell_type": "code",
   "execution_count": null,
   "id": "aa5cd45f",
   "metadata": {
    "vscode": {
     "languageId": "r"
    }
   },
   "outputs": [],
   "source": [
    "nuevoIris <- iris[iris$Petal.Width != 0.2, ][, c(\"Sepal.Length\", \"Sepal.Width\", \"Species\")]"
   ]
  },
  {
   "cell_type": "markdown",
   "id": "c4dc9e51",
   "metadata": {},
   "source": [
    "<div style=\"background-color:#5DADE2\"><b>Apartado 5</b></div>"
   ]
  },
  {
   "cell_type": "code",
   "execution_count": null,
   "id": "fc952621",
   "metadata": {
    "vscode": {
     "languageId": "r"
    }
   },
   "outputs": [],
   "source": [
    "# Calcular el número de filas borradas\n",
    "filasBorradas <- nrow(iris) - nrow(nuevoIris)\n",
    "filasBorradas"
   ]
  },
  {
   "cell_type": "code",
   "execution_count": null,
   "id": "21ba8213",
   "metadata": {
    "vscode": {
     "languageId": "r"
    }
   },
   "outputs": [],
   "source": [
    "nombresOriginales <- names(nuevoIris)\n",
    "nombresESP <- c(\"Sépalo.Longitud\", \"Sépalo.Ancho\", \"Especie\")"
   ]
  },
  {
   "cell_type": "code",
   "execution_count": null,
   "id": "75b11689",
   "metadata": {
    "vscode": {
     "languageId": "r"
    }
   },
   "outputs": [],
   "source": [
    "names(nuevoIris) <- nombresESP\n",
    "nuevoIris"
   ]
  },
  {
   "cell_type": "markdown",
   "id": "8c9ea909",
   "metadata": {},
   "source": [
    "<div style=\"background-color:#5DADE2\"><b>Apartado 6</b></div>"
   ]
  },
  {
   "cell_type": "code",
   "execution_count": null,
   "id": "2b778be6",
   "metadata": {
    "vscode": {
     "languageId": "r"
    }
   },
   "outputs": [],
   "source": [
    "peticion <- nuevoIris[, c(\"Sépalo.Longitud\", \"Sépalo.Ancho\")][nuevoIris$Sépalo.Longitud > 3, ]"
   ]
  },
  {
   "cell_type": "code",
   "execution_count": null,
   "id": "d4655471",
   "metadata": {
    "vscode": {
     "languageId": "r"
    }
   },
   "outputs": [],
   "source": [
    "orden <- order(-peticion)\n",
    "nuevoIris[orden, ]"
   ]
  },
  {
   "cell_type": "markdown",
   "id": "46ce0106",
   "metadata": {},
   "source": [
    "<div style=\"background-color:#5DADE2\"><b>Apartado 7</b></div>"
   ]
  },
  {
   "cell_type": "code",
   "execution_count": null,
   "id": "62439a92",
   "metadata": {
    "vscode": {
     "languageId": "r"
    }
   },
   "outputs": [],
   "source": [
    "# Después de conseguir todos los datos, hacemos un vector con ellos y los añadimos al dataframe\n",
    "elementos <- iris$Sepal.Width / iris$Sepal.Length\n",
    "elementos"
   ]
  },
  {
   "cell_type": "code",
   "execution_count": null,
   "id": "48a074b4",
   "metadata": {
    "vscode": {
     "languageId": "r"
    }
   },
   "outputs": [],
   "source": [
    "iris$forma <- elementos\n",
    "iris"
   ]
  },
  {
   "cell_type": "markdown",
   "id": "a9989f80",
   "metadata": {},
   "source": [
    "### Ejercicio 6 \n",
    "\n",
    "Contestar a las siguientes cuestiones utilizando para ello las funciones necesarias.\n",
    "\n",
    "1. Crear un vector con la función `seq` que incluya las notas desde 1 hasta 10 de 60 alumnos. Luego, calcular el valor medio de las notas de dichos alumnos.\n",
    "2. ¿Cuál es la nota mínima obtenida por estos estudiantes? ¿Cuántos estudiantes la han sacado?\n",
    "3. ¿Cuántos estudiantes han logrado un notable (entre 7 y 8.9)? ¿Qué porcentaje del total de estudiantes representan?\n",
    "4. ¿Qué grupo es más numeroso: el de los estudiantes que han sacado entre 4 y 4.9, o el de los que han sacado entre 5 y 5.9?"
   ]
  },
  {
   "cell_type": "markdown",
   "id": "62636634",
   "metadata": {},
   "source": [
    "<div style=\"background-color:#F7DC6F\"><b>Resolución Ejercicio 06</b></div>"
   ]
  },
  {
   "cell_type": "markdown",
   "id": "f666c258",
   "metadata": {},
   "source": [
    "<div style=\"background-color:#5DADE2\"><b>Apartado 1</b></div>"
   ]
  },
  {
   "cell_type": "code",
   "execution_count": null,
   "id": "cd6c0481",
   "metadata": {
    "vscode": {
     "languageId": "r"
    }
   },
   "outputs": [],
   "source": [
    "notas = seq(1, 10, 0.1)\n",
    "notas"
   ]
  },
  {
   "cell_type": "code",
   "execution_count": null,
   "id": "3e0b5ffe",
   "metadata": {
    "vscode": {
     "languageId": "r"
    }
   },
   "outputs": [],
   "source": [
    "set.seed(1) # Fijamos las semilla para que los resultados del sample se mantengan igual\n",
    "notasAlumnos = sample(notas, 60, replace = T)\n",
    "notasAlumnos"
   ]
  },
  {
   "cell_type": "code",
   "execution_count": null,
   "id": "68f7caf4",
   "metadata": {
    "vscode": {
     "languageId": "r"
    }
   },
   "outputs": [],
   "source": [
    "notaMedia = mean(notasAlumnos)\n",
    "notaMedia"
   ]
  },
  {
   "cell_type": "markdown",
   "id": "85155bab",
   "metadata": {},
   "source": [
    "<div style=\"background-color:#5DADE2\"><b>Apartado 2</b></div>"
   ]
  },
  {
   "cell_type": "code",
   "execution_count": null,
   "id": "c605a777",
   "metadata": {
    "vscode": {
     "languageId": "r"
    }
   },
   "outputs": [],
   "source": [
    "min(notasAlumnos)"
   ]
  },
  {
   "cell_type": "code",
   "execution_count": null,
   "id": "021c88ad",
   "metadata": {
    "vscode": {
     "languageId": "r"
    }
   },
   "outputs": [],
   "source": [
    "cantidad <- table(notasAlumnos)\n",
    "cantidad"
   ]
  },
  {
   "cell_type": "code",
   "execution_count": null,
   "id": "f9ba1009",
   "metadata": {
    "vscode": {
     "languageId": "r"
    }
   },
   "outputs": [],
   "source": [
    "cantidad[min(notasAlumnos)]"
   ]
  },
  {
   "cell_type": "markdown",
   "id": "0ab5e26f",
   "metadata": {},
   "source": [
    "<div style=\"background-color:#5DADE2\"><b>Apartado 3</b></div>"
   ]
  },
  {
   "cell_type": "code",
   "execution_count": null,
   "id": "18ae14c3",
   "metadata": {
    "vscode": {
     "languageId": "r"
    }
   },
   "outputs": [],
   "source": [
    "sum(notasAlumnos >= 7 & notasAlumnos <= 8.9)"
   ]
  },
  {
   "cell_type": "markdown",
   "id": "5e81f79e",
   "metadata": {},
   "source": [
    "<div style=\"background-color:#5DADE2\"><b>Apartado 4</b></div>"
   ]
  },
  {
   "cell_type": "code",
   "execution_count": null,
   "id": "6bb554e7",
   "metadata": {
    "vscode": {
     "languageId": "r"
    }
   },
   "outputs": [],
   "source": [
    "casiAprobados <- sum(notasAlumnos >= 4 & notasAlumnos <= 4.9)\n",
    "casiAprobados"
   ]
  },
  {
   "cell_type": "code",
   "execution_count": null,
   "id": "79c5a66e",
   "metadata": {
    "vscode": {
     "languageId": "r"
    }
   },
   "outputs": [],
   "source": [
    "casiSuspensos <- sum(notasAlumnos >= 5 & notasAlumnos <= 5.9)\n",
    "casiSuspensos"
   ]
  },
  {
   "cell_type": "code",
   "execution_count": null,
   "id": "2efff2c6",
   "metadata": {
    "vscode": {
     "languageId": "r"
    }
   },
   "outputs": [],
   "source": [
    "if (casiAprobados < casiSuspensos) {\n",
    "    print(\"Es más grande el grupo de 5 - 5.9\")\n",
    "} else {\n",
    "    print(\"Es más grande el grupo de 4 - 4.9\")\n",
    "}"
   ]
  },
  {
   "cell_type": "markdown",
   "id": "58b3037f",
   "metadata": {},
   "source": [
    "### Ejercicio 7 \n",
    "\n",
    "Contestar a las siguientes cuestiones utilizando para ello las funciones necesarias.\n",
    "\n",
    "1. Calcular la suma del vector `x` definido como un vector que contenga los números 2, 9, -1 y 4.\n",
    "2. Definir otro vector `z` que contenga los números 6, 4, -1, -3, y hacer la suma de `x` y `z`.\n",
    "3. Calcular el número de elementos mayores que 0 del resultado de la suma de `x` y `z`.\n",
    "4. Calcular la versión ordenada del vector anterior `x`.\n",
    "5. Encontrar en el vector `x` original el lugar (el índice) que ocupa su mínimo y su máximo.\n",
    "6. Encontrar en el vector `x` los elementos mayores que 2 y menores que 7. Encuentra una forma de averiguar si todos los elementos son o no positivos.\n",
    "7. Definir el vector `c(-1, 0, 4, 5, -2)`, calcular la raíz cuadrada del vector y determinar que lugares son ausentes de tipo `NaN`.\n",
    "8. Definir el vector de los primeros números impares (hasta el 19) y extraer los elementos que ocupan los lugares 1, 4, 5. Eliminar del vector el segundo elemento."
   ]
  },
  {
   "cell_type": "markdown",
   "id": "ab15c5c2",
   "metadata": {},
   "source": [
    "<div style=\"background-color:#F7DC6F\"><b>Resolución Ejercicio 07</b></div>"
   ]
  },
  {
   "cell_type": "markdown",
   "id": "d0a7de7f",
   "metadata": {},
   "source": [
    "<div style=\"background-color:#5DADE2\"><b>Apartado 1</b></div>"
   ]
  },
  {
   "cell_type": "code",
   "execution_count": null,
   "id": "a3113e83",
   "metadata": {
    "vscode": {
     "languageId": "r"
    }
   },
   "outputs": [],
   "source": [
    "x <- c(2, 9, -1, 4)\n",
    "x"
   ]
  },
  {
   "cell_type": "code",
   "execution_count": null,
   "id": "1ad6f949",
   "metadata": {
    "vscode": {
     "languageId": "r"
    }
   },
   "outputs": [],
   "source": [
    "sum(x)"
   ]
  },
  {
   "cell_type": "markdown",
   "id": "2a4312ac",
   "metadata": {},
   "source": [
    "<div style=\"background-color:#5DADE2\"><b>Apartado 2</b></div>"
   ]
  },
  {
   "cell_type": "code",
   "execution_count": null,
   "id": "f5351bcb",
   "metadata": {
    "vscode": {
     "languageId": "r"
    }
   },
   "outputs": [],
   "source": [
    "z <- c(6, 4, -1, -3)"
   ]
  },
  {
   "cell_type": "code",
   "execution_count": null,
   "id": "b8fe089a",
   "metadata": {
    "vscode": {
     "languageId": "r"
    }
   },
   "outputs": [],
   "source": [
    "y <- z + x\n",
    "y"
   ]
  },
  {
   "cell_type": "markdown",
   "id": "a4a5faff",
   "metadata": {},
   "source": [
    "<div style=\"background-color:#5DADE2\"><b>Apartado 3</b></div>"
   ]
  },
  {
   "cell_type": "code",
   "execution_count": null,
   "id": "72ab5b9e",
   "metadata": {
    "vscode": {
     "languageId": "r"
    }
   },
   "outputs": [],
   "source": [
    "table(y > 0)[\"TRUE\"]"
   ]
  },
  {
   "cell_type": "markdown",
   "id": "0d04c648",
   "metadata": {},
   "source": [
    "<div style=\"background-color:#5DADE2\"><b>Apartado 4</b></div>"
   ]
  },
  {
   "cell_type": "code",
   "execution_count": null,
   "id": "748deac0",
   "metadata": {
    "vscode": {
     "languageId": "r"
    }
   },
   "outputs": [],
   "source": [
    "sort(x) # De menor a mayor\n",
    "sort(x, decreasing = T) # De mayor a menor"
   ]
  },
  {
   "cell_type": "markdown",
   "id": "ca170e55",
   "metadata": {},
   "source": [
    "<div style=\"background-color:#5DADE2\"><b>Apartado 5</b></div>"
   ]
  },
  {
   "cell_type": "code",
   "execution_count": null,
   "id": "3d046078",
   "metadata": {
    "vscode": {
     "languageId": "r"
    }
   },
   "outputs": [],
   "source": [
    "# Posición del mínimo\n",
    "posicionMin <- which.min(x)\n",
    "posicionMin"
   ]
  },
  {
   "cell_type": "code",
   "execution_count": null,
   "id": "0bd41a60",
   "metadata": {
    "vscode": {
     "languageId": "r"
    }
   },
   "outputs": [],
   "source": [
    "# Posición del máximo\n",
    "posicionMax <- which.max(x)\n",
    "posicionMax"
   ]
  },
  {
   "cell_type": "markdown",
   "id": "b8093121",
   "metadata": {},
   "source": [
    "<div style=\"background-color:#5DADE2\"><b>Apartado 6</b></div>"
   ]
  },
  {
   "cell_type": "code",
   "execution_count": null,
   "id": "76b7f456",
   "metadata": {
    "vscode": {
     "languageId": "r"
    }
   },
   "outputs": [],
   "source": [
    "dentroRango <- x > 2 & x < 7 # Saber con TRUE cuál está dentro del rango"
   ]
  },
  {
   "cell_type": "code",
   "execution_count": null,
   "id": "093a9698",
   "metadata": {
    "vscode": {
     "languageId": "r"
    }
   },
   "outputs": [],
   "source": [
    "indice <- which(dentroRango == TRUE) # Averigua el indice de ese o esos valores\n",
    "x[indice]"
   ]
  },
  {
   "cell_type": "markdown",
   "id": "64b198a9",
   "metadata": {},
   "source": [
    "Todos los elementos en el rango 2:7 son positivos"
   ]
  },
  {
   "cell_type": "markdown",
   "id": "e0405a8c",
   "metadata": {},
   "source": [
    "<div style=\"background-color:#5DADE2\"><b>Apartado 7</b></div>"
   ]
  },
  {
   "cell_type": "code",
   "execution_count": null,
   "id": "0d175331",
   "metadata": {
    "vscode": {
     "languageId": "r"
    }
   },
   "outputs": [],
   "source": [
    "vector <- c(-1, 0, 4, 5, -2)\n",
    "vector"
   ]
  },
  {
   "cell_type": "code",
   "execution_count": null,
   "id": "2baf8769",
   "metadata": {
    "vscode": {
     "languageId": "r"
    }
   },
   "outputs": [],
   "source": [
    "vectorNaN <- sqrt(vector)\n",
    "vectorNaN"
   ]
  },
  {
   "cell_type": "code",
   "execution_count": null,
   "id": "a06941c3",
   "metadata": {
    "vscode": {
     "languageId": "r"
    }
   },
   "outputs": [],
   "source": [
    "lugaresNaN <- which(is.nan(vectorNaN))\n",
    "lugaresNaN"
   ]
  },
  {
   "cell_type": "markdown",
   "id": "dc9a49b1",
   "metadata": {},
   "source": [
    "<div style=\"background-color:#5DADE2\"><b>Apartado 8</b></div>"
   ]
  },
  {
   "cell_type": "code",
   "execution_count": null,
   "id": "f959620b",
   "metadata": {
    "vscode": {
     "languageId": "r"
    }
   },
   "outputs": [],
   "source": [
    "impares <- seq(1, 19, 2)\n",
    "impares"
   ]
  },
  {
   "cell_type": "code",
   "execution_count": null,
   "id": "f5570c1f",
   "metadata": {
    "vscode": {
     "languageId": "r"
    }
   },
   "outputs": [],
   "source": [
    "impares[c(1, 4, 5)]"
   ]
  },
  {
   "cell_type": "code",
   "execution_count": null,
   "id": "2ca1a4d9",
   "metadata": {
    "vscode": {
     "languageId": "r"
    }
   },
   "outputs": [],
   "source": [
    "impares <- impares[-2]\n",
    "impares"
   ]
  },
  {
   "cell_type": "markdown",
   "id": "a4c6948a",
   "metadata": {},
   "source": [
    "### Ejercicio 8 \n",
    "\n",
    "Contestar a las siguientes cuestiones creando para ello vuestras propias funciones.\n",
    "\n",
    "1. Escribir una función que reciba un vector de números y devuelva una lista con los elementos positivos y los elementos negativos del vector.\n",
    "2. Escribe una función que dado un valor y un vector devuelva cuántas veces se encuentra el valor en el vector.\n",
    "3. Una matriz es simétrica si es cuadrada y es igual a su traspuesta. Escribe una función que devuelva un valor lógico indicando si una matriz es simétrica.\n",
    "4. Realiza una función que reciba como parámetro una matriz y devuelva las posiciones de los elementos que sean a la vez mínimos de su columna y máximos de su fila. Por ejemplo, dada la matriz $\\left( {\\begin{array}{*{20}{c}}\n",
    "  8&6&10 \\\\ \n",
    "  9&8&7 \\\\ \n",
    "  1&2&3 \n",
    "\\end{array}} \\right)$ devolvería la posición (3, 3)."
   ]
  },
  {
   "cell_type": "markdown",
   "id": "bf515843",
   "metadata": {},
   "source": [
    "<div style=\"background-color:#F7DC6F\"><b>Resolución Ejercicio 08</b></div>"
   ]
  },
  {
   "cell_type": "markdown",
   "id": "6e69d335",
   "metadata": {},
   "source": [
    "<div style=\"background-color:#5DADE2\"><b>Apartado 1</b></div>"
   ]
  },
  {
   "cell_type": "code",
   "execution_count": null,
   "id": "be7b11ec",
   "metadata": {
    "vscode": {
     "languageId": "r"
    }
   },
   "outputs": [],
   "source": [
    "posneg <- function (vec){\n",
    "    positivos = vector()\n",
    "    negativos = vector()\n",
    "    for (i in vec){\n",
    "        if(i < 0){\n",
    "           negativos =  c(negativos, i)\n",
    "        }\n",
    "        else{\n",
    "           positivos = c(positivos, i)\n",
    "        }\n",
    "    }\n",
    "    lista = list(positivos, negativos)\n",
    "    return (lista)\n",
    "}\n",
    "\n",
    "vectorPrueba = sample(-3:6, size = 9, replace = TRUE)\n",
    "vectorPrueba\n",
    "posneg(vectorPrueba)"
   ]
  },
  {
   "cell_type": "markdown",
   "id": "ef3bdbc7",
   "metadata": {},
   "source": [
    "<div style=\"background-color:#5DADE2\"><b>Apartado 2</b></div>"
   ]
  },
  {
   "cell_type": "code",
   "execution_count": null,
   "id": "f9595198",
   "metadata": {
    "vscode": {
     "languageId": "r"
    }
   },
   "outputs": [],
   "source": [
    "valorEnVec <- function (vec, x){\n",
    "    contador = 0\n",
    "    for(i in vec){\n",
    "        if (i == x){\n",
    "            contador = contador + 1\n",
    "        }\n",
    "    }\n",
    "    return (contador)\n",
    "}\n",
    "\n",
    "valorEnVec(vectorPrueba, 4)"
   ]
  },
  {
   "cell_type": "markdown",
   "id": "190e4f5b",
   "metadata": {},
   "source": [
    "<div style=\"background-color:#5DADE2\"><b>Apartado 3</b></div>"
   ]
  },
  {
   "cell_type": "code",
   "execution_count": null,
   "id": "321a918c",
   "metadata": {
    "vscode": {
     "languageId": "r"
    }
   },
   "outputs": [],
   "source": [
    "simetrica <- function(matriz) {\n",
    "    # INPUT --> MATRIX\n",
    "    # OUTPUT -- > TRUE / FALSE\n",
    "    \n",
    "    dimension <- dim(matriz)\n",
    "    trapuesta <- t(matriz)\n",
    "    \n",
    "    if(matriz == traspuesta & dimension[1] != dimension[2]) {\n",
    "        return(TRUE)\n",
    "    } else {\n",
    "        return(FALSE)\n",
    "    }\n",
    "}"
   ]
  },
  {
   "cell_type": "markdown",
   "id": "c7ed7cf1",
   "metadata": {},
   "source": [
    "<div style=\"background-color:#5DADE2\"><b>Apartado 4</b></div>"
   ]
  },
  {
   "cell_type": "code",
   "execution_count": 3,
   "id": "a0076e9a",
   "metadata": {
    "vscode": {
     "languageId": "r"
    }
   },
   "outputs": [],
   "source": [
    "posiciones <- function(matriz) {\n",
    "    minimoColumna <- apply(X = matriz, MARGIN = 1, FUN = min)\n",
    "    maximoFila <- apply(X = matriz, MARGIN = 1, FUN = max)\n",
    "    vectorPosicion <- c()\n",
    "    for(elementoBuscado in minimoColumna) {\n",
    "        if(elementoBuscado %in% maximoFila) {\n",
    "            posicion <- which(matriz == elementoBuscado, arr.ind = TRUE)\n",
    "            vectorPosicion <- c(vectorPosicion, posicion)\n",
    "        }\n",
    "    }\n",
    "    return(vectorPosicion)\n",
    "}"
   ]
  },
  {
   "cell_type": "markdown",
   "id": "bc77e6d9",
   "metadata": {},
   "source": [
    "<div style = \"float:right\"><a style=\"text-decoration:none\" href = \"#inicio\">Inicio</a></div>"
   ]
  }
 ],
 "metadata": {
  "kernelspec": {
   "display_name": "R",
   "language": "R",
   "name": "ir"
  },
  "language_info": {
   "codemirror_mode": "r",
   "file_extension": ".r",
   "mimetype": "text/x-r-source",
   "name": "R",
   "pygments_lexer": "r",
   "version": "3.6.1"
  }
 },
 "nbformat": 4,
 "nbformat_minor": 5
}
