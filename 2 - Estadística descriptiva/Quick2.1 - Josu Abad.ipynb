{
 "cells": [
  {
   "cell_type": "markdown",
   "id": "d09ff182",
   "metadata": {},
   "source": [
    "<div style=\"background-color:#0BF7CC\"><b><u>Quick 0</u>. Contestar a las siguientes cuestiones utilizando para ello las funciones necesarias. Supongamos que tenemos el siguiente vector.</b></div>"
   ]
  },
  {
   "cell_type": "code",
   "execution_count": 3,
   "id": "09162284",
   "metadata": {},
   "outputs": [],
   "source": [
    "flores = c(\"Margarita\",\"Bugambilia\",\"Dalia\",\"Bugambilia\",\"Margarita\",\"Bugambilia\",\"Lirio\",\"Lirio\",\"Bugambilia\",\"Dalia\",\"Margarita\",\"Dalia\",\"Margarita\",\"Margarita\",\n",
    "           \"Bugambilia\",\"Margarita\",\"Bugambilia\",\"Dalia\",\"Lirio\",\"Bugambilia\",\"Bugambilia\")"
   ]
  },
  {
   "cell_type": "markdown",
   "id": "b7c39bb9",
   "metadata": {},
   "source": [
    "1. Calcular e interpretrar los resultados de una tabla de frecuencias absolutas para el vector flores. \n",
    "2. Calcular e interpretrar los resultados de una tabla de frecuencias relativas para el vector flores.\n",
    "3. Representar gráficamente e interpretrar los resultados de un diagrama de barras del vector llamado flores.\n",
    "4. Representar gráficamente e interpretrar los resultados de un diagrama circular del vector llamado flores."
   ]
  },
  {
   "cell_type": "markdown",
   "id": "0d81baf1",
   "metadata": {},
   "source": [
    "## 1"
   ]
  },
  {
   "cell_type": "code",
   "execution_count": 4,
   "id": "c939900d",
   "metadata": {},
   "outputs": [
    {
     "data": {
      "text/plain": [
       "flores\n",
       "Bugambilia      Dalia      Lirio  Margarita \n",
       "         8          4          3          6 "
      ]
     },
     "metadata": {},
     "output_type": "display_data"
    }
   ],
   "source": [
    "table(flores)"
   ]
  },
  {
   "cell_type": "markdown",
   "id": "3e6c101e",
   "metadata": {},
   "source": [
    "La freciencia absoluta indica que hay 8 flores Bugambilia, 4 Dalia, 3 Lirios y 6 Margaritas"
   ]
  },
  {
   "cell_type": "markdown",
   "id": "6a1de2d9",
   "metadata": {},
   "source": [
    "## 2"
   ]
  },
  {
   "cell_type": "code",
   "execution_count": 5,
   "id": "16a3e4b7",
   "metadata": {},
   "outputs": [
    {
     "data": {
      "text/plain": [
       "flores\n",
       "Bugambilia      Dalia      Lirio  Margarita \n",
       " 0.3809524  0.1904762  0.1428571  0.2857143 "
      ]
     },
     "metadata": {},
     "output_type": "display_data"
    }
   ],
   "source": [
    "prop.table(table(flores))"
   ]
  },
  {
   "cell_type": "markdown",
   "id": "65a4fb04",
   "metadata": {},
   "source": [
    "La freciencia relativa indica que el 38% de las flores son Bugambilia, 19% Dalia, 14% Lirios y 28% Margaritas"
   ]
  },
  {
   "cell_type": "markdown",
   "id": "c9168c3e",
   "metadata": {},
   "source": [
    "## 3"
   ]
  },
  {
   "cell_type": "code",
   "execution_count": 9,
   "id": "00f5d92b",
   "metadata": {},
   "outputs": [
    {
     "data": {
      "image/png": "[encoded data removed]",
      "text/plain": [
       "plot without title"
      ]
     },
     "metadata": {},
     "output_type": "display_data"
    }
   ],
   "source": [
    "barplot(table(flores))"
   ]
  },
  {
   "cell_type": "markdown",
   "id": "c3f8ce58",
   "metadata": {},
   "source": [
    "Vemos gráficamente que las Bugambilias son las flores que más hay. se ve lo mismo en el siguiente apartado de una manera distinta"
   ]
  },
  {
   "cell_type": "markdown",
   "id": "2c701001",
   "metadata": {},
   "source": [
    "## 4"
   ]
  },
  {
   "cell_type": "code",
   "execution_count": 8,
   "id": "b967b071",
   "metadata": {},
   "outputs": [
    {
     "data": {
      "image/png": "[encoded data removed]",
      "text/plain": [
       "plot without title"
      ]
     },
     "metadata": {},
     "output_type": "display_data"
    }
   ],
   "source": [
    "pie(table(flores))"
   ]
  },
  {
   "cell_type": "markdown",
   "id": "8584e141",
   "metadata": {},
   "source": [
    "<div style=\"background-color:#0BF7CC\"><b><u>Quick 1</u>. Programar una $\\tt función$ propia que replique el comportamiento de la función mean igual que yo he hecho con la función mode. Aportar un ejemplo numérico.</b></div>"
   ]
  },
  {
   "cell_type": "code",
   "execution_count": 10,
   "id": "d4a009ca",
   "metadata": {},
   "outputs": [],
   "source": [
    "mean_by_josu <- function(v) {\n",
    "    return(sum(v)/length(v))\n",
    "}"
   ]
  },
  {
   "cell_type": "code",
   "execution_count": 11,
   "id": "cb62a651",
   "metadata": {},
   "outputs": [
    {
     "data": {
      "text/html": [
       "3"
      ],
      "text/latex": [
       "3"
      ],
      "text/markdown": [
       "3"
      ],
      "text/plain": [
       "[1] 3"
      ]
     },
     "metadata": {},
     "output_type": "display_data"
    }
   ],
   "source": [
    "mean_by_josu(c(1, 2, 3, 4, 5))"
   ]
  },
  {
   "cell_type": "code",
   "execution_count": 12,
   "id": "49d3e351",
   "metadata": {},
   "outputs": [
    {
     "data": {
      "text/html": [
       "3"
      ],
      "text/latex": [
       "3"
      ],
      "text/markdown": [
       "3"
      ],
      "text/plain": [
       "[1] 3"
      ]
     },
     "metadata": {},
     "output_type": "display_data"
    }
   ],
   "source": [
    "mean(c(1, 2, 3, 4, 5))"
   ]
  },
  {
   "cell_type": "markdown",
   "id": "b92e646f",
   "metadata": {},
   "source": [
    "<div style=\"background-color:#0BF7CC\"><b><u>Quick 2</u>. Hallar los cuartiles de las duraciones de las erupciones en el conjunto de datos `faithful` de la librería $\\tt dataset$. Dicho conjunto de datos contiene información de dos variables, el tiempo de espera entre erupciones, y la duración de la erupción en minutos del géiser Old Faithful que se produjo el pasado año en el Parque Nacional de Yellowstone, Wyoming, EE.UU. Interpretar los resultados obtenidos.</b></div>"
   ]
  },
  {
   "cell_type": "code",
   "execution_count": 14,
   "id": "5ae0d39a",
   "metadata": {},
   "outputs": [],
   "source": [
    "data(faithful)"
   ]
  },
  {
   "cell_type": "code",
   "execution_count": 20,
   "id": "0af5ba3f",
   "metadata": {},
   "outputs": [
    {
     "name": "stdout",
     "output_type": "stream",
     "text": [
      "'data.frame':\t272 obs. of  2 variables:\n",
      " $ eruptions: num  3.6 1.8 3.33 2.28 4.53 ...\n",
      " $ waiting  : num  79 54 74 62 85 55 88 85 51 85 ...\n"
     ]
    }
   ],
   "source": [
    "str(faithful) # Hay que analizar la variable eruptions"
   ]
  },
  {
   "cell_type": "code",
   "execution_count": 23,
   "id": "a7511198",
   "metadata": {},
   "outputs": [
    {
     "data": {
      "text/html": [
       "<ol class=list-inline>\n",
       "\t<li>3.6</li>\n",
       "\t<li>1.8</li>\n",
       "\t<li>3.333</li>\n",
       "\t<li>2.283</li>\n",
       "\t<li>4.533</li>\n",
       "\t<li>2.883</li>\n",
       "\t<li>4.7</li>\n",
       "\t<li>3.6</li>\n",
       "\t<li>1.95</li>\n",
       "\t<li>4.35</li>\n",
       "\t<li>1.833</li>\n",
       "\t<li>3.917</li>\n",
       "\t<li>4.2</li>\n",
       "\t<li>1.75</li>\n",
       "\t<li>4.7</li>\n",
       "\t<li>2.167</li>\n",
       "\t<li>1.75</li>\n",
       "\t<li>4.8</li>\n",
       "\t<li>1.6</li>\n",
       "\t<li>4.25</li>\n",
       "\t<li>1.8</li>\n",
       "\t<li>1.75</li>\n",
       "\t<li>3.45</li>\n",
       "\t<li>3.067</li>\n",
       "\t<li>4.533</li>\n",
       "\t<li>3.6</li>\n",
       "\t<li>1.967</li>\n",
       "\t<li>4.083</li>\n",
       "\t<li>3.85</li>\n",
       "\t<li>4.433</li>\n",
       "\t<li>4.3</li>\n",
       "\t<li>4.467</li>\n",
       "\t<li>3.367</li>\n",
       "\t<li>4.033</li>\n",
       "\t<li>3.833</li>\n",
       "\t<li>2.017</li>\n",
       "\t<li>1.867</li>\n",
       "\t<li>4.833</li>\n",
       "\t<li>1.833</li>\n",
       "\t<li>4.783</li>\n",
       "\t<li>4.35</li>\n",
       "\t<li>1.883</li>\n",
       "\t<li>4.567</li>\n",
       "\t<li>1.75</li>\n",
       "\t<li>4.533</li>\n",
       "\t<li>3.317</li>\n",
       "\t<li>3.833</li>\n",
       "\t<li>2.1</li>\n",
       "\t<li>4.633</li>\n",
       "\t<li>2</li>\n",
       "\t<li>4.8</li>\n",
       "\t<li>4.716</li>\n",
       "\t<li>1.833</li>\n",
       "\t<li>4.833</li>\n",
       "\t<li>1.733</li>\n",
       "\t<li>4.883</li>\n",
       "\t<li>3.717</li>\n",
       "\t<li>1.667</li>\n",
       "\t<li>4.567</li>\n",
       "\t<li>4.317</li>\n",
       "\t<li>2.233</li>\n",
       "\t<li>4.5</li>\n",
       "\t<li>1.75</li>\n",
       "\t<li>4.8</li>\n",
       "\t<li>1.817</li>\n",
       "\t<li>4.4</li>\n",
       "\t<li>4.167</li>\n",
       "\t<li>4.7</li>\n",
       "\t<li>2.067</li>\n",
       "\t<li>4.7</li>\n",
       "\t<li>4.033</li>\n",
       "\t<li>1.967</li>\n",
       "\t<li>4.5</li>\n",
       "\t<li>4</li>\n",
       "\t<li>1.983</li>\n",
       "\t<li>5.067</li>\n",
       "\t<li>2.017</li>\n",
       "\t<li>4.567</li>\n",
       "\t<li>3.883</li>\n",
       "\t<li>3.6</li>\n",
       "\t<li>4.133</li>\n",
       "\t<li>4.333</li>\n",
       "\t<li>4.1</li>\n",
       "\t<li>2.633</li>\n",
       "\t<li>4.067</li>\n",
       "\t<li>4.933</li>\n",
       "\t<li>3.95</li>\n",
       "\t<li>4.517</li>\n",
       "\t<li>2.167</li>\n",
       "\t<li>4</li>\n",
       "\t<li>2.2</li>\n",
       "\t<li>4.333</li>\n",
       "\t<li>1.867</li>\n",
       "\t<li>4.817</li>\n",
       "\t<li>1.833</li>\n",
       "\t<li>4.3</li>\n",
       "\t<li>4.667</li>\n",
       "\t<li>3.75</li>\n",
       "\t<li>1.867</li>\n",
       "\t<li>4.9</li>\n",
       "\t<li>2.483</li>\n",
       "\t<li>4.367</li>\n",
       "\t<li>2.1</li>\n",
       "\t<li>4.5</li>\n",
       "\t<li>4.05</li>\n",
       "\t<li>1.867</li>\n",
       "\t<li>4.7</li>\n",
       "\t<li>1.783</li>\n",
       "\t<li>4.85</li>\n",
       "\t<li>3.683</li>\n",
       "\t<li>4.733</li>\n",
       "\t<li>2.3</li>\n",
       "\t<li>4.9</li>\n",
       "\t<li>4.417</li>\n",
       "\t<li>1.7</li>\n",
       "\t<li>4.633</li>\n",
       "\t<li>2.317</li>\n",
       "\t<li>4.6</li>\n",
       "\t<li>1.817</li>\n",
       "\t<li>4.417</li>\n",
       "\t<li>2.617</li>\n",
       "\t<li>4.067</li>\n",
       "\t<li>4.25</li>\n",
       "\t<li>1.967</li>\n",
       "\t<li>4.6</li>\n",
       "\t<li>3.767</li>\n",
       "\t<li>1.917</li>\n",
       "\t<li>4.5</li>\n",
       "\t<li>2.267</li>\n",
       "\t<li>4.65</li>\n",
       "\t<li>1.867</li>\n",
       "\t<li>4.167</li>\n",
       "\t<li>2.8</li>\n",
       "\t<li>4.333</li>\n",
       "\t<li>1.833</li>\n",
       "\t<li>4.383</li>\n",
       "\t<li>1.883</li>\n",
       "\t<li>4.933</li>\n",
       "\t<li>2.033</li>\n",
       "\t<li>3.733</li>\n",
       "\t<li>4.233</li>\n",
       "\t<li>2.233</li>\n",
       "\t<li>4.533</li>\n",
       "\t<li>4.817</li>\n",
       "\t<li>4.333</li>\n",
       "\t<li>1.983</li>\n",
       "\t<li>4.633</li>\n",
       "\t<li>2.017</li>\n",
       "\t<li>5.1</li>\n",
       "\t<li>1.8</li>\n",
       "\t<li>5.033</li>\n",
       "\t<li>4</li>\n",
       "\t<li>2.4</li>\n",
       "\t<li>4.6</li>\n",
       "\t<li>3.567</li>\n",
       "\t<li>4</li>\n",
       "\t<li>4.5</li>\n",
       "\t<li>4.083</li>\n",
       "\t<li>1.8</li>\n",
       "\t<li>3.967</li>\n",
       "\t<li>2.2</li>\n",
       "\t<li>4.15</li>\n",
       "\t<li>2</li>\n",
       "\t<li>3.833</li>\n",
       "\t<li>3.5</li>\n",
       "\t<li>4.583</li>\n",
       "\t<li>2.367</li>\n",
       "\t<li>5</li>\n",
       "\t<li>1.933</li>\n",
       "\t<li>4.617</li>\n",
       "\t<li>1.917</li>\n",
       "\t<li>2.083</li>\n",
       "\t<li>4.583</li>\n",
       "\t<li>3.333</li>\n",
       "\t<li>4.167</li>\n",
       "\t<li>4.333</li>\n",
       "\t<li>4.5</li>\n",
       "\t<li>2.417</li>\n",
       "\t<li>4</li>\n",
       "\t<li>4.167</li>\n",
       "\t<li>1.883</li>\n",
       "\t<li>4.583</li>\n",
       "\t<li>4.25</li>\n",
       "\t<li>3.767</li>\n",
       "\t<li>2.033</li>\n",
       "\t<li>4.433</li>\n",
       "\t<li>4.083</li>\n",
       "\t<li>1.833</li>\n",
       "\t<li>4.417</li>\n",
       "\t<li>2.183</li>\n",
       "\t<li>4.8</li>\n",
       "\t<li>1.833</li>\n",
       "\t<li>4.8</li>\n",
       "\t<li>4.1</li>\n",
       "\t<li>3.966</li>\n",
       "\t<li>4.233</li>\n",
       "\t<li>3.5</li>\n",
       "\t<li>4.366</li>\n",
       "\t<li>2.25</li>\n",
       "\t<li>4.667</li>\n",
       "\t<li>2.1</li>\n",
       "\t<li>4.35</li>\n",
       "\t<li>4.133</li>\n",
       "\t<li>1.867</li>\n",
       "\t<li>4.6</li>\n",
       "\t<li>1.783</li>\n",
       "\t<li>4.367</li>\n",
       "\t<li>3.85</li>\n",
       "\t<li>1.933</li>\n",
       "\t<li>4.5</li>\n",
       "\t<li>2.383</li>\n",
       "\t<li>4.7</li>\n",
       "\t<li>1.867</li>\n",
       "\t<li>3.833</li>\n",
       "\t<li>3.417</li>\n",
       "\t<li>4.233</li>\n",
       "\t<li>2.4</li>\n",
       "\t<li>4.8</li>\n",
       "\t<li>2</li>\n",
       "\t<li>4.15</li>\n",
       "\t<li>1.867</li>\n",
       "\t<li>4.267</li>\n",
       "\t<li>1.75</li>\n",
       "\t<li>4.483</li>\n",
       "\t<li>4</li>\n",
       "\t<li>4.117</li>\n",
       "\t<li>4.083</li>\n",
       "\t<li>4.267</li>\n",
       "\t<li>3.917</li>\n",
       "\t<li>4.55</li>\n",
       "\t<li>4.083</li>\n",
       "\t<li>2.417</li>\n",
       "\t<li>4.183</li>\n",
       "\t<li>2.217</li>\n",
       "\t<li>4.45</li>\n",
       "\t<li>1.883</li>\n",
       "\t<li>1.85</li>\n",
       "\t<li>4.283</li>\n",
       "\t<li>3.95</li>\n",
       "\t<li>2.333</li>\n",
       "\t<li>4.15</li>\n",
       "\t<li>2.35</li>\n",
       "\t<li>4.933</li>\n",
       "\t<li>2.9</li>\n",
       "\t<li>4.583</li>\n",
       "\t<li>3.833</li>\n",
       "\t<li>2.083</li>\n",
       "\t<li>4.367</li>\n",
       "\t<li>2.133</li>\n",
       "\t<li>4.35</li>\n",
       "\t<li>2.2</li>\n",
       "\t<li>4.45</li>\n",
       "\t<li>3.567</li>\n",
       "\t<li>4.5</li>\n",
       "\t<li>4.15</li>\n",
       "\t<li>3.817</li>\n",
       "\t<li>3.917</li>\n",
       "\t<li>4.45</li>\n",
       "\t<li>2</li>\n",
       "\t<li>4.283</li>\n",
       "\t<li>4.767</li>\n",
       "\t<li>4.533</li>\n",
       "\t<li>1.85</li>\n",
       "\t<li>4.25</li>\n",
       "\t<li>1.983</li>\n",
       "\t<li>2.25</li>\n",
       "\t<li>4.75</li>\n",
       "\t<li>4.117</li>\n",
       "\t<li>2.15</li>\n",
       "\t<li>4.417</li>\n",
       "\t<li>1.817</li>\n",
       "\t<li>4.467</li>\n",
       "</ol>\n"
      ],
      "text/latex": [
       "\\begin{enumerate*}\n",
       "\\item 3.6\n",
       "\\item 1.8\n",
       "\\item 3.333\n",
       "\\item 2.283\n",
       "\\item 4.533\n",
       "\\item 2.883\n",
       "\\item 4.7\n",
       "\\item 3.6\n",
       "\\item 1.95\n",
       "\\item 4.35\n",
       "\\item 1.833\n",
       "\\item 3.917\n",
       "\\item 4.2\n",
       "\\item 1.75\n",
       "\\item 4.7\n",
       "\\item 2.167\n",
       "\\item 1.75\n",
       "\\item 4.8\n",
       "\\item 1.6\n",
       "\\item 4.25\n",
       "\\item 1.8\n",
       "\\item 1.75\n",
       "\\item 3.45\n",
       "\\item 3.067\n",
       "\\item 4.533\n",
       "\\item 3.6\n",
       "\\item 1.967\n",
       "\\item 4.083\n",
       "\\item 3.85\n",
       "\\item 4.433\n",
       "\\item 4.3\n",
       "\\item 4.467\n",
       "\\item 3.367\n",
       "\\item 4.033\n",
       "\\item 3.833\n",
       "\\item 2.017\n",
       "\\item 1.867\n",
       "\\item 4.833\n",
       "\\item 1.833\n",
       "\\item 4.783\n",
       "\\item 4.35\n",
       "\\item 1.883\n",
       "\\item 4.567\n",
       "\\item 1.75\n",
       "\\item 4.533\n",
       "\\item 3.317\n",
       "\\item 3.833\n",
       "\\item 2.1\n",
       "\\item 4.633\n",
       "\\item 2\n",
       "\\item 4.8\n",
       "\\item 4.716\n",
       "\\item 1.833\n",
       "\\item 4.833\n",
       "\\item 1.733\n",
       "\\item 4.883\n",
       "\\item 3.717\n",
       "\\item 1.667\n",
       "\\item 4.567\n",
       "\\item 4.317\n",
       "\\item 2.233\n",
       "\\item 4.5\n",
       "\\item 1.75\n",
       "\\item 4.8\n",
       "\\item 1.817\n",
       "\\item 4.4\n",
       "\\item 4.167\n",
       "\\item 4.7\n",
       "\\item 2.067\n",
       "\\item 4.7\n",
       "\\item 4.033\n",
       "\\item 1.967\n",
       "\\item 4.5\n",
       "\\item 4\n",
       "\\item 1.983\n",
       "\\item 5.067\n",
       "\\item 2.017\n",
       "\\item 4.567\n",
       "\\item 3.883\n",
       "\\item 3.6\n",
       "\\item 4.133\n",
       "\\item 4.333\n",
       "\\item 4.1\n",
       "\\item 2.633\n",
       "\\item 4.067\n",
       "\\item 4.933\n",
       "\\item 3.95\n",
       "\\item 4.517\n",
       "\\item 2.167\n",
       "\\item 4\n",
       "\\item 2.2\n",
       "\\item 4.333\n",
       "\\item 1.867\n",
       "\\item 4.817\n",
       "\\item 1.833\n",
       "\\item 4.3\n",
       "\\item 4.667\n",
       "\\item 3.75\n",
       "\\item 1.867\n",
       "\\item 4.9\n",
       "\\item 2.483\n",
       "\\item 4.367\n",
       "\\item 2.1\n",
       "\\item 4.5\n",
       "\\item 4.05\n",
       "\\item 1.867\n",
       "\\item 4.7\n",
       "\\item 1.783\n",
       "\\item 4.85\n",
       "\\item 3.683\n",
       "\\item 4.733\n",
       "\\item 2.3\n",
       "\\item 4.9\n",
       "\\item 4.417\n",
       "\\item 1.7\n",
       "\\item 4.633\n",
       "\\item 2.317\n",
       "\\item 4.6\n",
       "\\item 1.817\n",
       "\\item 4.417\n",
       "\\item 2.617\n",
       "\\item 4.067\n",
       "\\item 4.25\n",
       "\\item 1.967\n",
       "\\item 4.6\n",
       "\\item 3.767\n",
       "\\item 1.917\n",
       "\\item 4.5\n",
       "\\item 2.267\n",
       "\\item 4.65\n",
       "\\item 1.867\n",
       "\\item 4.167\n",
       "\\item 2.8\n",
       "\\item 4.333\n",
       "\\item 1.833\n",
       "\\item 4.383\n",
       "\\item 1.883\n",
       "\\item 4.933\n",
       "\\item 2.033\n",
       "\\item 3.733\n",
       "\\item 4.233\n",
       "\\item 2.233\n",
       "\\item 4.533\n",
       "\\item 4.817\n",
       "\\item 4.333\n",
       "\\item 1.983\n",
       "\\item 4.633\n",
       "\\item 2.017\n",
       "\\item 5.1\n",
       "\\item 1.8\n",
       "\\item 5.033\n",
       "\\item 4\n",
       "\\item 2.4\n",
       "\\item 4.6\n",
       "\\item 3.567\n",
       "\\item 4\n",
       "\\item 4.5\n",
       "\\item 4.083\n",
       "\\item 1.8\n",
       "\\item 3.967\n",
       "\\item 2.2\n",
       "\\item 4.15\n",
       "\\item 2\n",
       "\\item 3.833\n",
       "\\item 3.5\n",
       "\\item 4.583\n",
       "\\item 2.367\n",
       "\\item 5\n",
       "\\item 1.933\n",
       "\\item 4.617\n",
       "\\item 1.917\n",
       "\\item 2.083\n",
       "\\item 4.583\n",
       "\\item 3.333\n",
       "\\item 4.167\n",
       "\\item 4.333\n",
       "\\item 4.5\n",
       "\\item 2.417\n",
       "\\item 4\n",
       "\\item 4.167\n",
       "\\item 1.883\n",
       "\\item 4.583\n",
       "\\item 4.25\n",
       "\\item 3.767\n",
       "\\item 2.033\n",
       "\\item 4.433\n",
       "\\item 4.083\n",
       "\\item 1.833\n",
       "\\item 4.417\n",
       "\\item 2.183\n",
       "\\item 4.8\n",
       "\\item 1.833\n",
       "\\item 4.8\n",
       "\\item 4.1\n",
       "\\item 3.966\n",
       "\\item 4.233\n",
       "\\item 3.5\n",
       "\\item 4.366\n",
       "\\item 2.25\n",
       "\\item 4.667\n",
       "\\item 2.1\n",
       "\\item 4.35\n",
       "\\item 4.133\n",
       "\\item 1.867\n",
       "\\item 4.6\n",
       "\\item 1.783\n",
       "\\item 4.367\n",
       "\\item 3.85\n",
       "\\item 1.933\n",
       "\\item 4.5\n",
       "\\item 2.383\n",
       "\\item 4.7\n",
       "\\item 1.867\n",
       "\\item 3.833\n",
       "\\item 3.417\n",
       "\\item 4.233\n",
       "\\item 2.4\n",
       "\\item 4.8\n",
       "\\item 2\n",
       "\\item 4.15\n",
       "\\item 1.867\n",
       "\\item 4.267\n",
       "\\item 1.75\n",
       "\\item 4.483\n",
       "\\item 4\n",
       "\\item 4.117\n",
       "\\item 4.083\n",
       "\\item 4.267\n",
       "\\item 3.917\n",
       "\\item 4.55\n",
       "\\item 4.083\n",
       "\\item 2.417\n",
       "\\item 4.183\n",
       "\\item 2.217\n",
       "\\item 4.45\n",
       "\\item 1.883\n",
       "\\item 1.85\n",
       "\\item 4.283\n",
       "\\item 3.95\n",
       "\\item 2.333\n",
       "\\item 4.15\n",
       "\\item 2.35\n",
       "\\item 4.933\n",
       "\\item 2.9\n",
       "\\item 4.583\n",
       "\\item 3.833\n",
       "\\item 2.083\n",
       "\\item 4.367\n",
       "\\item 2.133\n",
       "\\item 4.35\n",
       "\\item 2.2\n",
       "\\item 4.45\n",
       "\\item 3.567\n",
       "\\item 4.5\n",
       "\\item 4.15\n",
       "\\item 3.817\n",
       "\\item 3.917\n",
       "\\item 4.45\n",
       "\\item 2\n",
       "\\item 4.283\n",
       "\\item 4.767\n",
       "\\item 4.533\n",
       "\\item 1.85\n",
       "\\item 4.25\n",
       "\\item 1.983\n",
       "\\item 2.25\n",
       "\\item 4.75\n",
       "\\item 4.117\n",
       "\\item 2.15\n",
       "\\item 4.417\n",
       "\\item 1.817\n",
       "\\item 4.467\n",
       "\\end{enumerate*}\n"
      ],
      "text/markdown": [
       "1. 3.6\n",
       "2. 1.8\n",
       "3. 3.333\n",
       "4. 2.283\n",
       "5. 4.533\n",
       "6. 2.883\n",
       "7. 4.7\n",
       "8. 3.6\n",
       "9. 1.95\n",
       "10. 4.35\n",
       "11. 1.833\n",
       "12. 3.917\n",
       "13. 4.2\n",
       "14. 1.75\n",
       "15. 4.7\n",
       "16. 2.167\n",
       "17. 1.75\n",
       "18. 4.8\n",
       "19. 1.6\n",
       "20. 4.25\n",
       "21. 1.8\n",
       "22. 1.75\n",
       "23. 3.45\n",
       "24. 3.067\n",
       "25. 4.533\n",
       "26. 3.6\n",
       "27. 1.967\n",
       "28. 4.083\n",
       "29. 3.85\n",
       "30. 4.433\n",
       "31. 4.3\n",
       "32. 4.467\n",
       "33. 3.367\n",
       "34. 4.033\n",
       "35. 3.833\n",
       "36. 2.017\n",
       "37. 1.867\n",
       "38. 4.833\n",
       "39. 1.833\n",
       "40. 4.783\n",
       "41. 4.35\n",
       "42. 1.883\n",
       "43. 4.567\n",
       "44. 1.75\n",
       "45. 4.533\n",
       "46. 3.317\n",
       "47. 3.833\n",
       "48. 2.1\n",
       "49. 4.633\n",
       "50. 2\n",
       "51. 4.8\n",
       "52. 4.716\n",
       "53. 1.833\n",
       "54. 4.833\n",
       "55. 1.733\n",
       "56. 4.883\n",
       "57. 3.717\n",
       "58. 1.667\n",
       "59. 4.567\n",
       "60. 4.317\n",
       "61. 2.233\n",
       "62. 4.5\n",
       "63. 1.75\n",
       "64. 4.8\n",
       "65. 1.817\n",
       "66. 4.4\n",
       "67. 4.167\n",
       "68. 4.7\n",
       "69. 2.067\n",
       "70. 4.7\n",
       "71. 4.033\n",
       "72. 1.967\n",
       "73. 4.5\n",
       "74. 4\n",
       "75. 1.983\n",
       "76. 5.067\n",
       "77. 2.017\n",
       "78. 4.567\n",
       "79. 3.883\n",
       "80. 3.6\n",
       "81. 4.133\n",
       "82. 4.333\n",
       "83. 4.1\n",
       "84. 2.633\n",
       "85. 4.067\n",
       "86. 4.933\n",
       "87. 3.95\n",
       "88. 4.517\n",
       "89. 2.167\n",
       "90. 4\n",
       "91. 2.2\n",
       "92. 4.333\n",
       "93. 1.867\n",
       "94. 4.817\n",
       "95. 1.833\n",
       "96. 4.3\n",
       "97. 4.667\n",
       "98. 3.75\n",
       "99. 1.867\n",
       "100. 4.9\n",
       "101. 2.483\n",
       "102. 4.367\n",
       "103. 2.1\n",
       "104. 4.5\n",
       "105. 4.05\n",
       "106. 1.867\n",
       "107. 4.7\n",
       "108. 1.783\n",
       "109. 4.85\n",
       "110. 3.683\n",
       "111. 4.733\n",
       "112. 2.3\n",
       "113. 4.9\n",
       "114. 4.417\n",
       "115. 1.7\n",
       "116. 4.633\n",
       "117. 2.317\n",
       "118. 4.6\n",
       "119. 1.817\n",
       "120. 4.417\n",
       "121. 2.617\n",
       "122. 4.067\n",
       "123. 4.25\n",
       "124. 1.967\n",
       "125. 4.6\n",
       "126. 3.767\n",
       "127. 1.917\n",
       "128. 4.5\n",
       "129. 2.267\n",
       "130. 4.65\n",
       "131. 1.867\n",
       "132. 4.167\n",
       "133. 2.8\n",
       "134. 4.333\n",
       "135. 1.833\n",
       "136. 4.383\n",
       "137. 1.883\n",
       "138. 4.933\n",
       "139. 2.033\n",
       "140. 3.733\n",
       "141. 4.233\n",
       "142. 2.233\n",
       "143. 4.533\n",
       "144. 4.817\n",
       "145. 4.333\n",
       "146. 1.983\n",
       "147. 4.633\n",
       "148. 2.017\n",
       "149. 5.1\n",
       "150. 1.8\n",
       "151. 5.033\n",
       "152. 4\n",
       "153. 2.4\n",
       "154. 4.6\n",
       "155. 3.567\n",
       "156. 4\n",
       "157. 4.5\n",
       "158. 4.083\n",
       "159. 1.8\n",
       "160. 3.967\n",
       "161. 2.2\n",
       "162. 4.15\n",
       "163. 2\n",
       "164. 3.833\n",
       "165. 3.5\n",
       "166. 4.583\n",
       "167. 2.367\n",
       "168. 5\n",
       "169. 1.933\n",
       "170. 4.617\n",
       "171. 1.917\n",
       "172. 2.083\n",
       "173. 4.583\n",
       "174. 3.333\n",
       "175. 4.167\n",
       "176. 4.333\n",
       "177. 4.5\n",
       "178. 2.417\n",
       "179. 4\n",
       "180. 4.167\n",
       "181. 1.883\n",
       "182. 4.583\n",
       "183. 4.25\n",
       "184. 3.767\n",
       "185. 2.033\n",
       "186. 4.433\n",
       "187. 4.083\n",
       "188. 1.833\n",
       "189. 4.417\n",
       "190. 2.183\n",
       "191. 4.8\n",
       "192. 1.833\n",
       "193. 4.8\n",
       "194. 4.1\n",
       "195. 3.966\n",
       "196. 4.233\n",
       "197. 3.5\n",
       "198. 4.366\n",
       "199. 2.25\n",
       "200. 4.667\n",
       "201. 2.1\n",
       "202. 4.35\n",
       "203. 4.133\n",
       "204. 1.867\n",
       "205. 4.6\n",
       "206. 1.783\n",
       "207. 4.367\n",
       "208. 3.85\n",
       "209. 1.933\n",
       "210. 4.5\n",
       "211. 2.383\n",
       "212. 4.7\n",
       "213. 1.867\n",
       "214. 3.833\n",
       "215. 3.417\n",
       "216. 4.233\n",
       "217. 2.4\n",
       "218. 4.8\n",
       "219. 2\n",
       "220. 4.15\n",
       "221. 1.867\n",
       "222. 4.267\n",
       "223. 1.75\n",
       "224. 4.483\n",
       "225. 4\n",
       "226. 4.117\n",
       "227. 4.083\n",
       "228. 4.267\n",
       "229. 3.917\n",
       "230. 4.55\n",
       "231. 4.083\n",
       "232. 2.417\n",
       "233. 4.183\n",
       "234. 2.217\n",
       "235. 4.45\n",
       "236. 1.883\n",
       "237. 1.85\n",
       "238. 4.283\n",
       "239. 3.95\n",
       "240. 2.333\n",
       "241. 4.15\n",
       "242. 2.35\n",
       "243. 4.933\n",
       "244. 2.9\n",
       "245. 4.583\n",
       "246. 3.833\n",
       "247. 2.083\n",
       "248. 4.367\n",
       "249. 2.133\n",
       "250. 4.35\n",
       "251. 2.2\n",
       "252. 4.45\n",
       "253. 3.567\n",
       "254. 4.5\n",
       "255. 4.15\n",
       "256. 3.817\n",
       "257. 3.917\n",
       "258. 4.45\n",
       "259. 2\n",
       "260. 4.283\n",
       "261. 4.767\n",
       "262. 4.533\n",
       "263. 1.85\n",
       "264. 4.25\n",
       "265. 1.983\n",
       "266. 2.25\n",
       "267. 4.75\n",
       "268. 4.117\n",
       "269. 2.15\n",
       "270. 4.417\n",
       "271. 1.817\n",
       "272. 4.467\n",
       "\n",
       "\n"
      ],
      "text/plain": [
       "  [1] 3.600 1.800 3.333 2.283 4.533 2.883 4.700 3.600 1.950 4.350 1.833 3.917\n",
       " [13] 4.200 1.750 4.700 2.167 1.750 4.800 1.600 4.250 1.800 1.750 3.450 3.067\n",
       " [25] 4.533 3.600 1.967 4.083 3.850 4.433 4.300 4.467 3.367 4.033 3.833 2.017\n",
       " [37] 1.867 4.833 1.833 4.783 4.350 1.883 4.567 1.750 4.533 3.317 3.833 2.100\n",
       " [49] 4.633 2.000 4.800 4.716 1.833 4.833 1.733 4.883 3.717 1.667 4.567 4.317\n",
       " [61] 2.233 4.500 1.750 4.800 1.817 4.400 4.167 4.700 2.067 4.700 4.033 1.967\n",
       " [73] 4.500 4.000 1.983 5.067 2.017 4.567 3.883 3.600 4.133 4.333 4.100 2.633\n",
       " [85] 4.067 4.933 3.950 4.517 2.167 4.000 2.200 4.333 1.867 4.817 1.833 4.300\n",
       " [97] 4.667 3.750 1.867 4.900 2.483 4.367 2.100 4.500 4.050 1.867 4.700 1.783\n",
       "[109] 4.850 3.683 4.733 2.300 4.900 4.417 1.700 4.633 2.317 4.600 1.817 4.417\n",
       "[121] 2.617 4.067 4.250 1.967 4.600 3.767 1.917 4.500 2.267 4.650 1.867 4.167\n",
       "[133] 2.800 4.333 1.833 4.383 1.883 4.933 2.033 3.733 4.233 2.233 4.533 4.817\n",
       "[145] 4.333 1.983 4.633 2.017 5.100 1.800 5.033 4.000 2.400 4.600 3.567 4.000\n",
       "[157] 4.500 4.083 1.800 3.967 2.200 4.150 2.000 3.833 3.500 4.583 2.367 5.000\n",
       "[169] 1.933 4.617 1.917 2.083 4.583 3.333 4.167 4.333 4.500 2.417 4.000 4.167\n",
       "[181] 1.883 4.583 4.250 3.767 2.033 4.433 4.083 1.833 4.417 2.183 4.800 1.833\n",
       "[193] 4.800 4.100 3.966 4.233 3.500 4.366 2.250 4.667 2.100 4.350 4.133 1.867\n",
       "[205] 4.600 1.783 4.367 3.850 1.933 4.500 2.383 4.700 1.867 3.833 3.417 4.233\n",
       "[217] 2.400 4.800 2.000 4.150 1.867 4.267 1.750 4.483 4.000 4.117 4.083 4.267\n",
       "[229] 3.917 4.550 4.083 2.417 4.183 2.217 4.450 1.883 1.850 4.283 3.950 2.333\n",
       "[241] 4.150 2.350 4.933 2.900 4.583 3.833 2.083 4.367 2.133 4.350 2.200 4.450\n",
       "[253] 3.567 4.500 4.150 3.817 3.917 4.450 2.000 4.283 4.767 4.533 1.850 4.250\n",
       "[265] 1.983 2.250 4.750 4.117 2.150 4.417 1.817 4.467"
      ]
     },
     "metadata": {},
     "output_type": "display_data"
    }
   ],
   "source": [
    "faithful$eruptions"
   ]
  },
  {
   "cell_type": "code",
   "execution_count": 39,
   "id": "117c7a3c",
   "metadata": {},
   "outputs": [],
   "source": [
    "erups <- sort(faithful$eruptions) # Ordenamos los datos de menor a mayor"
   ]
  },
  {
   "cell_type": "code",
   "execution_count": 35,
   "id": "6fdd2075",
   "metadata": {},
   "outputs": [
    {
     "data": {
      "text/html": [
       "<strong>25%:</strong> 2.16275"
      ],
      "text/latex": [
       "\\textbf{25\\textbackslash{}\\%:} 2.16275"
      ],
      "text/markdown": [
       "**25%:** 2.16275"
      ],
      "text/plain": [
       "    25% \n",
       "2.16275 "
      ]
     },
     "metadata": {},
     "output_type": "display_data"
    }
   ],
   "source": [
    "quantile(erups, 0.25)"
   ]
  },
  {
   "cell_type": "code",
   "execution_count": 36,
   "id": "d80b8c8b",
   "metadata": {},
   "outputs": [
    {
     "data": {
      "text/html": [
       "<strong>50%:</strong> 4"
      ],
      "text/latex": [
       "\\textbf{50\\textbackslash{}\\%:} 4"
      ],
      "text/markdown": [
       "**50%:** 4"
      ],
      "text/plain": [
       "50% \n",
       "  4 "
      ]
     },
     "metadata": {},
     "output_type": "display_data"
    }
   ],
   "source": [
    "quantile(erups, 0.50)"
   ]
  },
  {
   "cell_type": "code",
   "execution_count": 37,
   "id": "4fc42750",
   "metadata": {},
   "outputs": [
    {
     "data": {
      "text/html": [
       "<strong>75%:</strong> 4.45425"
      ],
      "text/latex": [
       "\\textbf{75\\textbackslash{}\\%:} 4.45425"
      ],
      "text/markdown": [
       "**75%:** 4.45425"
      ],
      "text/plain": [
       "    75% \n",
       "4.45425 "
      ]
     },
     "metadata": {},
     "output_type": "display_data"
    }
   ],
   "source": [
    "quantile(erups, 0.75)"
   ]
  },
  {
   "cell_type": "markdown",
   "id": "7c88519f",
   "metadata": {},
   "source": [
    "Los resultados que hemos obtenido quieren decir:\n",
    "1. El cuantil Q1 nos dice que hasta el 25% de los datos llegan hasta el valor 2.16275\n",
    "2. El cuantil Q2 nos dice que hasta el 50% de los datos llegan hasta el valor 4\n",
    "3. El cuantil Q3 nos dice que hasta el 75% de los datos llegan hasta el valor 4.45425"
   ]
  },
  {
   "cell_type": "code",
   "execution_count": 34,
   "id": "1e9498c9",
   "metadata": {},
   "outputs": [
    {
     "data": {
      "text/html": [
       "<strong>50%:</strong> 4"
      ],
      "text/latex": [
       "\\textbf{50\\textbackslash{}\\%:} 4"
      ],
      "text/markdown": [
       "**50%:** 4"
      ],
      "text/plain": [
       "50% \n",
       "  4 "
      ]
     },
     "metadata": {},
     "output_type": "display_data"
    }
   ],
   "source": [
    "quantile(erups, 0.38)"
   ]
  },
  {
   "cell_type": "code",
   "execution_count": 38,
   "id": "548a0aeb",
   "metadata": {},
   "outputs": [
    {
     "data": {
      "text/html": [
       "<strong>4%:</strong> 1.783"
      ],
      "text/latex": [
       "\\textbf{4\\textbackslash{}\\%:} 1.783"
      ],
      "text/markdown": [
       "**4%:** 1.783"
      ],
      "text/plain": [
       "   4% \n",
       "1.783 "
      ]
     },
     "metadata": {},
     "output_type": "display_data"
    }
   ],
   "source": [
    "quantile(erups, 0.04)"
   ]
  },
  {
   "cell_type": "markdown",
   "id": "238a75e2",
   "metadata": {},
   "source": [
    "<div style=\"background-color:#0BF7CC\"><b><u>Quick 3</u>. En un estudio del Ministerio de Sanidad se registró el peso al nacer de bebés seleccionados al azar. La siguiente tabla muestra el peso en gramos para 10 nacimientos de niñas y 10 niños. Contestar a las siguientes cuestiones utilizando para ello las funciones necesarias. </b></div>"
   ]
  },
  {
   "cell_type": "code",
   "execution_count": 41,
   "id": "6488a43f",
   "metadata": {},
   "outputs": [],
   "source": [
    "# Niñas 2474 2547 2830 3219 3429 3448 3677 3872 4001 4116\n",
    "# Niños 2844 2863 2963 3239 3379 3449 3582 3926 4151 4356"
   ]
  },
  {
   "cell_type": "markdown",
   "id": "c931defa",
   "metadata": {},
   "source": [
    "1. ¿Cuál es el rango, rango intercuartílico, la varianza y la desviación típica de los nacimientos de niñas? Expresar con vuestras propias palabras la interpretación de los números obtenidos.\n",
    "\n",
    "2. Calcular los mismos estadísticos pero de los nacimientos de niños. Comparar y explicar las diferencias con los resultados de los nacimientos de las niñas."
   ]
  },
  {
   "cell_type": "markdown",
   "id": "43447b28",
   "metadata": {},
   "source": [
    "## 1"
   ]
  },
  {
   "cell_type": "code",
   "execution_count": 42,
   "id": "de7e1349",
   "metadata": {},
   "outputs": [],
   "source": [
    "ninas <- c(2474, 2547, 2830 ,3219 ,3429, 3448, 3677 ,3872 ,4001 ,4116)\n",
    "ninos <- c(2844, 2863, 2963, 3239, 3379, 3449, 3582, 3926, 4151, 4356)"
   ]
  },
  {
   "cell_type": "code",
   "execution_count": 46,
   "id": "afd69da2",
   "metadata": {},
   "outputs": [
    {
     "data": {
      "text/html": [
       "<ol class=list-inline>\n",
       "\t<li>2474</li>\n",
       "\t<li>4116</li>\n",
       "</ol>\n"
      ],
      "text/latex": [
       "\\begin{enumerate*}\n",
       "\\item 2474\n",
       "\\item 4116\n",
       "\\end{enumerate*}\n"
      ],
      "text/markdown": [
       "1. 2474\n",
       "2. 4116\n",
       "\n",
       "\n"
      ],
      "text/plain": [
       "[1] 2474 4116"
      ]
     },
     "metadata": {},
     "output_type": "display_data"
    },
    {
     "data": {
      "text/html": [
       "1642"
      ],
      "text/latex": [
       "1642"
      ],
      "text/markdown": [
       "1642"
      ],
      "text/plain": [
       "[1] 1642"
      ]
     },
     "metadata": {},
     "output_type": "display_data"
    }
   ],
   "source": [
    "range(ninas)\n",
    "diff(range(ninas))"
   ]
  },
  {
   "cell_type": "code",
   "execution_count": 47,
   "id": "cb6e41ff",
   "metadata": {},
   "outputs": [
    {
     "data": {
      "text/html": [
       "896"
      ],
      "text/latex": [
       "896"
      ],
      "text/markdown": [
       "896"
      ],
      "text/plain": [
       "[1] 896"
      ]
     },
     "metadata": {},
     "output_type": "display_data"
    }
   ],
   "source": [
    "IQR(ninas)"
   ]
  },
  {
   "cell_type": "code",
   "execution_count": 48,
   "id": "7ab396d1",
   "metadata": {},
   "outputs": [
    {
     "data": {
      "text/html": [
       "344920.455555556"
      ],
      "text/latex": [
       "344920.455555556"
      ],
      "text/markdown": [
       "344920.455555556"
      ],
      "text/plain": [
       "[1] 344920.5"
      ]
     },
     "metadata": {},
     "output_type": "display_data"
    }
   ],
   "source": [
    "var(ninas)"
   ]
  },
  {
   "cell_type": "code",
   "execution_count": 50,
   "id": "7a9c156a",
   "metadata": {},
   "outputs": [
    {
     "data": {
      "text/html": [
       "587.299289592245"
      ],
      "text/latex": [
       "587.299289592245"
      ],
      "text/markdown": [
       "587.299289592245"
      ],
      "text/plain": [
       "[1] 587.2993"
      ]
     },
     "metadata": {},
     "output_type": "display_data"
    }
   ],
   "source": [
    "sd(ninas)"
   ]
  },
  {
   "cell_type": "markdown",
   "id": "41ebd37c",
   "metadata": {},
   "source": [
    "## 2"
   ]
  },
  {
   "cell_type": "code",
   "execution_count": 51,
   "id": "51ead099",
   "metadata": {},
   "outputs": [
    {
     "data": {
      "text/html": [
       "<ol class=list-inline>\n",
       "\t<li>2844</li>\n",
       "\t<li>4356</li>\n",
       "</ol>\n"
      ],
      "text/latex": [
       "\\begin{enumerate*}\n",
       "\\item 2844\n",
       "\\item 4356\n",
       "\\end{enumerate*}\n"
      ],
      "text/markdown": [
       "1. 2844\n",
       "2. 4356\n",
       "\n",
       "\n"
      ],
      "text/plain": [
       "[1] 2844 4356"
      ]
     },
     "metadata": {},
     "output_type": "display_data"
    },
    {
     "data": {
      "text/html": [
       "1512"
      ],
      "text/latex": [
       "1512"
      ],
      "text/markdown": [
       "1512"
      ],
      "text/plain": [
       "[1] 1512"
      ]
     },
     "metadata": {},
     "output_type": "display_data"
    }
   ],
   "source": [
    "range(ninos)\n",
    "diff(range(ninos))"
   ]
  },
  {
   "cell_type": "code",
   "execution_count": 52,
   "id": "b765ec91",
   "metadata": {},
   "outputs": [
    {
     "data": {
      "text/html": [
       "808"
      ],
      "text/latex": [
       "808"
      ],
      "text/markdown": [
       "808"
      ],
      "text/plain": [
       "[1] 808"
      ]
     },
     "metadata": {},
     "output_type": "display_data"
    }
   ],
   "source": [
    "IQR(ninos)"
   ]
  },
  {
   "cell_type": "code",
   "execution_count": 53,
   "id": "4f12fb7c",
   "metadata": {},
   "outputs": [
    {
     "data": {
      "text/html": [
       "283158.177777778"
      ],
      "text/latex": [
       "283158.177777778"
      ],
      "text/markdown": [
       "283158.177777778"
      ],
      "text/plain": [
       "[1] 283158.2"
      ]
     },
     "metadata": {},
     "output_type": "display_data"
    }
   ],
   "source": [
    "var(ninos)"
   ]
  },
  {
   "cell_type": "code",
   "execution_count": 54,
   "id": "f3d9cc15",
   "metadata": {},
   "outputs": [
    {
     "data": {
      "text/html": [
       "532.126091991154"
      ],
      "text/latex": [
       "532.126091991154"
      ],
      "text/markdown": [
       "532.126091991154"
      ],
      "text/plain": [
       "[1] 532.1261"
      ]
     },
     "metadata": {},
     "output_type": "display_data"
    }
   ],
   "source": [
    "sd(ninos)"
   ]
  },
  {
   "cell_type": "markdown",
   "id": "35d8c7c0",
   "metadata": {},
   "source": [
    "<div style=\"background-color:#0BF7CC\"><b><u>Quick 4</u>. Utilizando el conjunto de datos `iris`, comparar los coeficientes de asimetría y curtosis de las variables Sepal.Length, Sepal.Width, Petal.Length y Petal.Width. Interpretar los resultados obtenidos y obtener el histograma de cada una de ellas.</b></div>"
   ]
  },
  {
   "cell_type": "code",
   "execution_count": 65,
   "id": "9a59f67c",
   "metadata": {},
   "outputs": [],
   "source": [
    "data(iris)"
   ]
  },
  {
   "cell_type": "code",
   "execution_count": 66,
   "id": "9fffa020",
   "metadata": {},
   "outputs": [
    {
     "ename": "ERROR",
     "evalue": "Error in install(fitdistrplus): no se pudo encontrar la función \"install\"\n",
     "output_type": "error",
     "traceback": [
      "Error in install(fitdistrplus): no se pudo encontrar la función \"install\"\nTraceback:\n"
     ]
    }
   ],
   "source": [
    "install(fitdistrplus)"
   ]
  },
  {
   "cell_type": "code",
   "execution_count": 64,
   "id": "364c3d53",
   "metadata": {},
   "outputs": [
    {
     "name": "stderr",
     "output_type": "stream",
     "text": [
      "Your code contains a unicode char which cannot be displayed in your\n",
      "current locale and R will silently convert it to an escaped form when the\n",
      "R kernel executes this code. This can lead to subtle errors if you use\n",
      "such chars to do comparisons. For more information, please see\n",
      "https://github.com/IRkernel/repr/wiki/Problems-with-unicode-on-windows"
     ]
    },
    {
     "ename": "ERROR",
     "evalue": "Error in parse(text = x, srcfile = src): <text>:1:9: inesperado '<'\n1: library(<\n            ^\n",
     "output_type": "error",
     "traceback": [
      "Error in parse(text = x, srcfile = src): <text>:1:9: inesperado '<'\n1: library(<\n            ^\nTraceback:\n"
     ]
    }
   ],
   "source": [
    "library(𝚏𝚒𝚝𝚍𝚒𝚜𝚝𝚛𝚙𝚕𝚞𝚜)"
   ]
  },
  {
   "cell_type": "markdown",
   "id": "5fd1b47d",
   "metadata": {},
   "source": [
    "# Me da error con cualquiera de las 2 librerías"
   ]
  },
  {
   "cell_type": "code",
   "execution_count": null,
   "id": "26f92a59",
   "metadata": {},
   "outputs": [],
   "source": [
    "AsiSLength <- skewn"
   ]
  },
  {
   "cell_type": "code",
   "execution_count": null,
   "id": "43bc0c3c",
   "metadata": {},
   "outputs": [],
   "source": [
    "CurtSLength <- "
   ]
  },
  {
   "cell_type": "code",
   "execution_count": null,
   "id": "6bdfdb1b",
   "metadata": {},
   "outputs": [],
   "source": [
    "AsiSWidth <- "
   ]
  },
  {
   "cell_type": "code",
   "execution_count": null,
   "id": "e52879be",
   "metadata": {},
   "outputs": [],
   "source": [
    "CurtSWidth <- "
   ]
  },
  {
   "cell_type": "code",
   "execution_count": null,
   "id": "e02fbc4d",
   "metadata": {},
   "outputs": [],
   "source": [
    "pLength <- "
   ]
  },
  {
   "cell_type": "code",
   "execution_count": null,
   "id": "9ef5fc32",
   "metadata": {},
   "outputs": [],
   "source": [
    "pLength <- "
   ]
  },
  {
   "cell_type": "code",
   "execution_count": null,
   "id": "497ea349",
   "metadata": {},
   "outputs": [],
   "source": [
    "pWidth <- "
   ]
  },
  {
   "cell_type": "code",
   "execution_count": null,
   "id": "8d9f4ae9",
   "metadata": {},
   "outputs": [],
   "source": [
    "pWidth <- "
   ]
  },
  {
   "cell_type": "code",
   "execution_count": null,
   "id": "f093b1ef",
   "metadata": {},
   "outputs": [],
   "source": []
  },
  {
   "cell_type": "code",
   "execution_count": null,
   "id": "41d5ce7c",
   "metadata": {},
   "outputs": [],
   "source": []
  }
 ],
 "metadata": {
  "kernelspec": {
   "display_name": "R",
   "language": "R",
   "name": "ir"
  },
  "language_info": {
   "codemirror_mode": "r",
   "file_extension": ".r",
   "mimetype": "text/x-r-source",
   "name": "R",
   "pygments_lexer": "r",
   "version": "3.6.1"
  }
 },
 "nbformat": 4,
 "nbformat_minor": 5
}
