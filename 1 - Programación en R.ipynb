{
 "cells": [
  {
   "cell_type": "markdown",
   "id": "c05dc9aa",
   "metadata": {},
   "source": [
    "# Josu Abad Otaño"
   ]
  },
  {
   "cell_type": "markdown",
   "id": "16719904",
   "metadata": {},
   "source": [
    "Ejercicios clase 02/10/2023"
   ]
  },
  {
   "cell_type": "markdown",
   "id": "021176f2",
   "metadata": {},
   "source": [
    "<div style=\"background-color:#0BF7CC\"><b><u>Quick 0</u>. Programar una $\\tt función$ propia que replique el comportamiento de la progresión aritmética. Aportar un ejemplo numérico.</b></div>"
   ]
  },
  {
   "cell_type": "code",
   "execution_count": null,
   "id": "d77a6b90",
   "metadata": {},
   "outputs": [],
   "source": [
    "# Código de la funcion para la progresion aritmetica\n",
    "progresion_aritmetica <- function(a, n, d) {\n",
    "    a + (n - 1)*d\n",
    "}"
   ]
  },
  {
   "cell_type": "code",
   "execution_count": null,
   "id": "4605530f",
   "metadata": {},
   "outputs": [],
   "source": [
    "# Comprobación del código <- los primeros 5 numeros impares\n",
    "progresion_aritmetica(1, 1, 2) # 1\n",
    "progresion_aritmetica(1, 2, 2) # 3\n",
    "progresion_aritmetica(1, 3, 2) # 5\n",
    "progresion_aritmetica(1, 4, 2) # 7\n",
    "progresion_aritmetica(1, 5, 2) # 9"
   ]
  },
  {
   "cell_type": "markdown",
   "id": "744acd8f",
   "metadata": {},
   "source": [
    "La función calcula el término general de una progresión aritmética"
   ]
  },
  {
   "cell_type": "markdown",
   "id": "134f0679",
   "metadata": {},
   "source": [
    "<div style=\"background-color:#0BF7CC\"><b><u>Quick 1</u>. Programar y explicar el funcionamiento paso a paso de dos $\\tt funciones$ propias utilizando los diferentes elementos que acabamos de ver en este apartado.</b></div>"
   ]
  },
  {
   "cell_type": "markdown",
   "id": "e4740304",
   "metadata": {},
   "source": [
    "## Función 1"
   ]
  },
  {
   "cell_type": "code",
   "execution_count": null,
   "id": "1edcf021",
   "metadata": {},
   "outputs": [],
   "source": [
    "# Definir la funcion que hace la media aritmetica de 4 numeros\n",
    "media <- function(num1 = 0, num2 = 0, num3 = 0, num4 = 0) {\n",
    "    return((num1 + num2 + num3 + num4) / 4)\n",
    "}"
   ]
  },
  {
   "cell_type": "code",
   "execution_count": null,
   "id": "a3b3b691",
   "metadata": {},
   "outputs": [],
   "source": [
    "media(8, 9, 7, 9)"
   ]
  },
  {
   "cell_type": "markdown",
   "id": "d555167a",
   "metadata": {},
   "source": [
    "Calcula la media aritmética de 4 números"
   ]
  },
  {
   "cell_type": "markdown",
   "id": "ba5519d3",
   "metadata": {},
   "source": [
    "## Función 2"
   ]
  },
  {
   "cell_type": "markdown",
   "id": "9f2bd607",
   "metadata": {},
   "source": [
    "La función edad que vamos a definir calcula la edad que deberías tener  en este momento usando los 2 tipos de varibles que hemos visto"
   ]
  },
  {
   "cell_type": "code",
   "execution_count": null,
   "id": "6b3a538b",
   "metadata": {},
   "outputs": [],
   "source": [
    "nacimiento  <-  2004\n",
    "edad <- function() {\n",
    "    actualidad <- 2023\n",
    "    return(actualidad - nacimiento)\n",
    "}"
   ]
  },
  {
   "cell_type": "code",
   "execution_count": null,
   "id": "344818d2",
   "metadata": {},
   "outputs": [],
   "source": [
    "edad()"
   ]
  },
  {
   "cell_type": "markdown",
   "id": "1ca7e697",
   "metadata": {},
   "source": [
    "<div style=\"background-color:#0BF7CC\"><b><u>Quick 2</u>. Programar y explicar el funcionamiento paso a paso de dos estructuras condicionales $\\tt if/if else$ utilizando los diferentes elementos que acabamos de ver en este apartado.</b></div>"
   ]
  },
  {
   "cell_type": "markdown",
   "id": "0dcef3cc",
   "metadata": {},
   "source": [
    "## If 1"
   ]
  },
  {
   "cell_type": "code",
   "execution_count": null,
   "id": "6474503c",
   "metadata": {},
   "outputs": [],
   "source": [
    "# Funcion que decide si entras a una discoteca\n",
    "set.seed(1)\n",
    "edades <- sample(x = 16:20, size = 10, replace = TRUE) # Generamos edades aleatorias para 10 personas\n",
    "edades"
   ]
  },
  {
   "cell_type": "code",
   "execution_count": null,
   "id": "2867e288",
   "metadata": {},
   "outputs": [],
   "source": [
    "entradas <- ifelse(test = (edades < 18), yes = FALSE, no = TRUE)\n",
    "entradas"
   ]
  },
  {
   "cell_type": "markdown",
   "id": "0d3c61f8",
   "metadata": {},
   "source": [
    "## If 2"
   ]
  },
  {
   "cell_type": "code",
   "execution_count": null,
   "id": "7bbcab3f",
   "metadata": {},
   "outputs": [],
   "source": [
    "# Función para saber si un número es par\n",
    "par_impar <- function(num) {\n",
    "    if(num %% 2 == 0) {\n",
    "        return(TRUE)\n",
    "    }\n",
    "    return(FALSE)\n",
    "}"
   ]
  },
  {
   "cell_type": "code",
   "execution_count": null,
   "id": "ec5dac7e",
   "metadata": {},
   "outputs": [],
   "source": [
    "par_impar(3)"
   ]
  },
  {
   "cell_type": "code",
   "execution_count": null,
   "id": "25580835",
   "metadata": {},
   "outputs": [],
   "source": [
    "par_impar(4)"
   ]
  },
  {
   "cell_type": "markdown",
   "id": "eeccbbae",
   "metadata": {},
   "source": [
    "<div style=\"background-color:#0BF7CC\"><b><u>Quick 3</u>. Programar y explicar el funcionamiento paso a paso de dos bucles $\\tt for$ utilizando los diferentes elementos que acabamos de ver en este apartado.</b></div>"
   ]
  },
  {
   "cell_type": "markdown",
   "id": "d5326786",
   "metadata": {},
   "source": [
    "## For 1"
   ]
  },
  {
   "cell_type": "code",
   "execution_count": null,
   "id": "84a9f788",
   "metadata": {},
   "outputs": [],
   "source": [
    "# Suseión de los números 5 primeros numeros pares\n",
    "pares <- seq(from = 0, to = 8, by = 2) # Crear una secuencia con toddos los números pares\n",
    "\n",
    "for(num in pares) { # Con el for se pueden visualizar\n",
    "    print(num)\n",
    "}"
   ]
  },
  {
   "cell_type": "markdown",
   "id": "77e1cc6c",
   "metadata": {},
   "source": [
    "## For 2"
   ]
  },
  {
   "cell_type": "code",
   "execution_count": null,
   "id": "e1910d95",
   "metadata": {},
   "outputs": [],
   "source": [
    "# Contar cuantos números son iguales a 0 en una secuencia de numeros\n",
    "set.seed(1)\n",
    "numeros <- sample(x = 0:10, size = 20, replace = TRUE)\n",
    "numeros # Se ve que hay 2 0's"
   ]
  },
  {
   "cell_type": "code",
   "execution_count": null,
   "id": "0b1c7db4",
   "metadata": {},
   "outputs": [],
   "source": [
    "num_ceros <- 0 # Contador de todos los 0's del vector anterior\n",
    "for(num in numeros) {\n",
    "    if(num == 0) num_ceros  <-  num_ceros + 1\n",
    "}"
   ]
  },
  {
   "cell_type": "code",
   "execution_count": null,
   "id": "bc249a21",
   "metadata": {},
   "outputs": [],
   "source": [
    "num_ceros"
   ]
  },
  {
   "cell_type": "markdown",
   "id": "1a637276",
   "metadata": {},
   "source": [
    "<div style=\"background-color:#0BF7CC\"><b><u>Quick 4</u>. Programar y explicar el funcionamiento paso a paso de dos bucles $\\tt while$ utilizando los diferentes elementos que acabamos de ver en este apartado.</b></div>"
   ]
  },
  {
   "cell_type": "markdown",
   "id": "2bba649f",
   "metadata": {},
   "source": [
    "## While 1"
   ]
  },
  {
   "cell_type": "code",
   "execution_count": null,
   "id": "52ce545d",
   "metadata": {},
   "outputs": [],
   "source": [
    "# Con while, vamos a simular el sistema de puntuación de tenis\n",
    "puntos <- 0\n",
    "while(puntos <= 40) {\n",
    "    print(paste(\"El jugador A tiene \", puntos, \" puntos\"))\n",
    "    puntos <- puntos + 10 # Por el bien del ejercicio, obviamos que los puntos del tenis son 0 - 15 - 30 - 40 y ahora son de 10 en 10\n",
    "}\n",
    "\n",
    "print(paste(\"El jugador a ganado el juego\"))"
   ]
  },
  {
   "cell_type": "markdown",
   "id": "7805a557",
   "metadata": {},
   "source": [
    "## While 2"
   ]
  },
  {
   "cell_type": "code",
   "execution_count": null,
   "id": "92379372",
   "metadata": {},
   "outputs": [],
   "source": [
    "# Simular la duración de un partido de fútbol\n",
    "minutos <- 0\n",
    "\n",
    "while(minutos <= 90) {\n",
    "    print(paste(\"Minuto \", minutos))\n",
    "    minutos <- minutos + 1\n",
    "}\n",
    "\n",
    "print(paste(\"FIN DEL PARTIDO\"))"
   ]
  },
  {
   "cell_type": "markdown",
   "id": "42ed19e7",
   "metadata": {},
   "source": [
    "<div style=\"background-color:#0BF7CC\"><b><u>Quick 5</u>. Programar y explicar el funcionamiento paso a paso de un ejemplo de cada unos de los comandos $break/next/repeat$ utilizando los diferentes elementos que acabamos de ver en este apartado.</b></div>"
   ]
  },
  {
   "cell_type": "code",
   "execution_count": null,
   "id": "951ccec8",
   "metadata": {},
   "outputs": [],
   "source": [
    "# Imprimir los 10 primeros números impares\n",
    "index <- 1 # Primer número impar\n",
    "while(index <= 10) { # Enseña hasta el décimo elemento\n",
    "    if(index %% 2 != 0) { # Si el resto de la división entre 2 = 0, es porque es par\n",
    "        next # Vuelve al ciclo porque no buscamos los pares\n",
    "    } else {\n",
    "        print(index) # Si es impar, enseña el resultado\n",
    "        index <- index + 1 # Incremento para acabar con la condición cuando llegue a 10\n",
    "    }\n",
    "}"
   ]
  },
  {
   "cell_type": "code",
   "execution_count": null,
   "id": "db619514",
   "metadata": {},
   "outputs": [],
   "source": [
    "# Simulación de lo que podría ser un software de un cajero en el supermercado\n",
    "gastos <- 20 # Hay que pagar 20 euros\n",
    "importe <- 1 # Hemos dado 1 euro\n",
    "repeat { # Voy a seguir pagando de a euro hasta completar los 20\n",
    "    print(importe)\n",
    "    if(importe == gastos) { # Cuando complete los 20 termino de pagar\n",
    "        break\n",
    "    }\n",
    "    importe <- importe + 1 # Añades 1 euro más\n",
    "}"
   ]
  },
  {
   "cell_type": "code",
   "execution_count": null,
   "id": "d7413d07",
   "metadata": {},
   "outputs": [],
   "source": []
  }
 ],
 "metadata": {
  "kernelspec": {
   "display_name": "R",
   "language": "R",
   "name": "ir"
  },
  "language_info": {
   "codemirror_mode": "r",
   "file_extension": ".r",
   "mimetype": "text/x-r-source",
   "name": "R",
   "pygments_lexer": "r",
   "version": "3.6.1"
  }
 },
 "nbformat": 4,
 "nbformat_minor": 5
}
